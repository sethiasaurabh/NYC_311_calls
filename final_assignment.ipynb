{
 "cells": [
  {
   "cell_type": "markdown",
   "metadata": {},
   "source": [
    "# Forecasting the time it takes to resolve a 311 calls"
   ]
  },
  {
   "cell_type": "code",
   "execution_count": 2,
   "metadata": {
    "execution": {
     "iopub.execute_input": "2021-10-13T23:52:23.517025Z",
     "iopub.status.busy": "2021-10-13T23:52:23.516619Z",
     "iopub.status.idle": "2021-10-13T23:52:24.404582Z",
     "shell.execute_reply": "2021-10-13T23:52:24.403543Z",
     "shell.execute_reply.started": "2021-10-13T23:52:23.516939Z"
    }
   },
   "outputs": [],
   "source": [
    "# Packages to load\n",
    "\n",
    "import numpy as np #linear algebra\n",
    "import pandas as pd #data processing, CSV file I/O\n",
    "from datetime import date\n",
    "import seaborn as sns\n",
    "import matplotlib.pyplot as plt"
   ]
  },
  {
   "cell_type": "code",
   "execution_count": 5,
   "metadata": {
    "execution": {
     "iopub.execute_input": "2021-10-13T23:52:24.406711Z",
     "iopub.status.busy": "2021-10-13T23:52:24.406297Z",
     "iopub.status.idle": "2021-10-13T23:52:31.517563Z",
     "shell.execute_reply": "2021-10-13T23:52:31.516671Z",
     "shell.execute_reply.started": "2021-10-13T23:52:24.406667Z"
    }
   },
   "outputs": [],
   "source": [
    "# Reading the Data set\n",
    "\n",
    "import os\n",
    "\n",
    "path = (\"/Users/saurabhsethia/Downloads/archive/311-DSNY-20151017.csv\")\n",
    "df = pd.read_csv(path)"
   ]
  },
  {
   "cell_type": "code",
   "execution_count": 6,
   "metadata": {
    "execution": {
     "iopub.execute_input": "2021-10-13T23:52:31.51939Z",
     "iopub.status.busy": "2021-10-13T23:52:31.519061Z",
     "iopub.status.idle": "2021-10-13T23:52:31.562564Z",
     "shell.execute_reply": "2021-10-13T23:52:31.561577Z",
     "shell.execute_reply.started": "2021-10-13T23:52:31.51936Z"
    }
   },
   "outputs": [
    {
     "data": {
      "text/html": [
       "<div>\n",
       "<style scoped>\n",
       "    .dataframe tbody tr th:only-of-type {\n",
       "        vertical-align: middle;\n",
       "    }\n",
       "\n",
       "    .dataframe tbody tr th {\n",
       "        vertical-align: top;\n",
       "    }\n",
       "\n",
       "    .dataframe thead th {\n",
       "        text-align: right;\n",
       "    }\n",
       "</style>\n",
       "<table border=\"1\" class=\"dataframe\">\n",
       "  <thead>\n",
       "    <tr style=\"text-align: right;\">\n",
       "      <th></th>\n",
       "      <th>Unique Key</th>\n",
       "      <th>Created Date</th>\n",
       "      <th>Closed Date</th>\n",
       "      <th>Agency</th>\n",
       "      <th>Agency Name</th>\n",
       "      <th>Complaint Type</th>\n",
       "      <th>Descriptor</th>\n",
       "      <th>Location Type</th>\n",
       "      <th>Incident Zip</th>\n",
       "      <th>Incident Address</th>\n",
       "      <th>...</th>\n",
       "      <th>Vehicle Type</th>\n",
       "      <th>Taxi Company Borough</th>\n",
       "      <th>Taxi Pick Up Location</th>\n",
       "      <th>Bridge Highway Name</th>\n",
       "      <th>Bridge Highway Direction</th>\n",
       "      <th>Road Ramp</th>\n",
       "      <th>Bridge Highway Segment</th>\n",
       "      <th>Latitude</th>\n",
       "      <th>Longitude</th>\n",
       "      <th>Location</th>\n",
       "    </tr>\n",
       "  </thead>\n",
       "  <tbody>\n",
       "    <tr>\n",
       "      <th>0</th>\n",
       "      <td>29653961</td>\n",
       "      <td>01/07/2015 06:50:12 PM</td>\n",
       "      <td>NaN</td>\n",
       "      <td>DSNY</td>\n",
       "      <td>Department of Sanitation</td>\n",
       "      <td>Graffiti</td>\n",
       "      <td>Graffiti</td>\n",
       "      <td>NaN</td>\n",
       "      <td>NaN</td>\n",
       "      <td>10 s4 st</td>\n",
       "      <td>...</td>\n",
       "      <td>NaN</td>\n",
       "      <td>NaN</td>\n",
       "      <td>NaN</td>\n",
       "      <td>NaN</td>\n",
       "      <td>NaN</td>\n",
       "      <td>NaN</td>\n",
       "      <td>NaN</td>\n",
       "      <td>NaN</td>\n",
       "      <td>NaN</td>\n",
       "      <td>NaN</td>\n",
       "    </tr>\n",
       "    <tr>\n",
       "      <th>1</th>\n",
       "      <td>29655441</td>\n",
       "      <td>01/07/2015 08:17:00 AM</td>\n",
       "      <td>01/07/2015 12:00:00 PM</td>\n",
       "      <td>DSNY</td>\n",
       "      <td>BCC - Queens East</td>\n",
       "      <td>Snow</td>\n",
       "      <td>15S Re-Plow/Spread/Ice-Snow Cond.</td>\n",
       "      <td>Street</td>\n",
       "      <td>NaN</td>\n",
       "      <td>NaN</td>\n",
       "      <td>...</td>\n",
       "      <td>NaN</td>\n",
       "      <td>NaN</td>\n",
       "      <td>NaN</td>\n",
       "      <td>NaN</td>\n",
       "      <td>NaN</td>\n",
       "      <td>NaN</td>\n",
       "      <td>NaN</td>\n",
       "      <td>NaN</td>\n",
       "      <td>NaN</td>\n",
       "      <td>NaN</td>\n",
       "    </tr>\n",
       "    <tr>\n",
       "      <th>2</th>\n",
       "      <td>29750581</td>\n",
       "      <td>01/19/2015 05:00:00 PM</td>\n",
       "      <td>01/21/2015 12:00:00 PM</td>\n",
       "      <td>DSNY</td>\n",
       "      <td>BCC - Queens West</td>\n",
       "      <td>Litter Basket / Request</td>\n",
       "      <td>10 Litter Basket / Request</td>\n",
       "      <td>Sidewalk</td>\n",
       "      <td>NaN</td>\n",
       "      <td>NaN</td>\n",
       "      <td>...</td>\n",
       "      <td>NaN</td>\n",
       "      <td>NaN</td>\n",
       "      <td>NaN</td>\n",
       "      <td>NaN</td>\n",
       "      <td>NaN</td>\n",
       "      <td>NaN</td>\n",
       "      <td>NaN</td>\n",
       "      <td>NaN</td>\n",
       "      <td>NaN</td>\n",
       "      <td>NaN</td>\n",
       "    </tr>\n",
       "    <tr>\n",
       "      <th>3</th>\n",
       "      <td>29767423</td>\n",
       "      <td>01/22/2015 09:21:00 AM</td>\n",
       "      <td>01/31/2015 12:00:00 PM</td>\n",
       "      <td>DSNY</td>\n",
       "      <td>A - Canine Task Force Citywide</td>\n",
       "      <td>Dirty Conditions</td>\n",
       "      <td>E8 Canine Violation</td>\n",
       "      <td>Sidewalk</td>\n",
       "      <td>NaN</td>\n",
       "      <td>QUEENS BOULEVARD</td>\n",
       "      <td>...</td>\n",
       "      <td>NaN</td>\n",
       "      <td>NaN</td>\n",
       "      <td>NaN</td>\n",
       "      <td>NaN</td>\n",
       "      <td>NaN</td>\n",
       "      <td>NaN</td>\n",
       "      <td>NaN</td>\n",
       "      <td>NaN</td>\n",
       "      <td>NaN</td>\n",
       "      <td>NaN</td>\n",
       "    </tr>\n",
       "    <tr>\n",
       "      <th>4</th>\n",
       "      <td>29618799</td>\n",
       "      <td>01/02/2015 06:11:00 AM</td>\n",
       "      <td>01/05/2015 12:00:00 PM</td>\n",
       "      <td>DSNY</td>\n",
       "      <td>Bronx 10</td>\n",
       "      <td>Sanitation Condition</td>\n",
       "      <td>12 Dead Animals</td>\n",
       "      <td>Sidewalk</td>\n",
       "      <td>NaN</td>\n",
       "      <td>HUTCHISON RIVER PKW</td>\n",
       "      <td>...</td>\n",
       "      <td>NaN</td>\n",
       "      <td>NaN</td>\n",
       "      <td>NaN</td>\n",
       "      <td>NaN</td>\n",
       "      <td>NaN</td>\n",
       "      <td>NaN</td>\n",
       "      <td>NaN</td>\n",
       "      <td>NaN</td>\n",
       "      <td>NaN</td>\n",
       "      <td>NaN</td>\n",
       "    </tr>\n",
       "  </tbody>\n",
       "</table>\n",
       "<p>5 rows × 41 columns</p>\n",
       "</div>"
      ],
      "text/plain": [
       "   Unique Key            Created Date             Closed Date Agency  \\\n",
       "0    29653961  01/07/2015 06:50:12 PM                     NaN   DSNY   \n",
       "1    29655441  01/07/2015 08:17:00 AM  01/07/2015 12:00:00 PM   DSNY   \n",
       "2    29750581  01/19/2015 05:00:00 PM  01/21/2015 12:00:00 PM   DSNY   \n",
       "3    29767423  01/22/2015 09:21:00 AM  01/31/2015 12:00:00 PM   DSNY   \n",
       "4    29618799  01/02/2015 06:11:00 AM  01/05/2015 12:00:00 PM   DSNY   \n",
       "\n",
       "                      Agency Name           Complaint Type  \\\n",
       "0        Department of Sanitation                 Graffiti   \n",
       "1               BCC - Queens East                     Snow   \n",
       "2               BCC - Queens West  Litter Basket / Request   \n",
       "3  A - Canine Task Force Citywide         Dirty Conditions   \n",
       "4                        Bronx 10     Sanitation Condition   \n",
       "\n",
       "                          Descriptor Location Type  Incident Zip  \\\n",
       "0                           Graffiti           NaN           NaN   \n",
       "1  15S Re-Plow/Spread/Ice-Snow Cond.        Street           NaN   \n",
       "2         10 Litter Basket / Request      Sidewalk           NaN   \n",
       "3                E8 Canine Violation      Sidewalk           NaN   \n",
       "4                    12 Dead Animals      Sidewalk           NaN   \n",
       "\n",
       "      Incident Address  ... Vehicle Type Taxi Company Borough  \\\n",
       "0             10 s4 st  ...          NaN                  NaN   \n",
       "1                  NaN  ...          NaN                  NaN   \n",
       "2                  NaN  ...          NaN                  NaN   \n",
       "3     QUEENS BOULEVARD  ...          NaN                  NaN   \n",
       "4  HUTCHISON RIVER PKW  ...          NaN                  NaN   \n",
       "\n",
       "  Taxi Pick Up Location Bridge Highway Name Bridge Highway Direction  \\\n",
       "0                   NaN                 NaN                      NaN   \n",
       "1                   NaN                 NaN                      NaN   \n",
       "2                   NaN                 NaN                      NaN   \n",
       "3                   NaN                 NaN                      NaN   \n",
       "4                   NaN                 NaN                      NaN   \n",
       "\n",
       "  Road Ramp Bridge Highway Segment  Latitude Longitude Location  \n",
       "0       NaN                    NaN       NaN       NaN      NaN  \n",
       "1       NaN                    NaN       NaN       NaN      NaN  \n",
       "2       NaN                    NaN       NaN       NaN      NaN  \n",
       "3       NaN                    NaN       NaN       NaN      NaN  \n",
       "4       NaN                    NaN       NaN       NaN      NaN  \n",
       "\n",
       "[5 rows x 41 columns]"
      ]
     },
     "execution_count": 6,
     "metadata": {},
     "output_type": "execute_result"
    }
   ],
   "source": [
    "df.head()"
   ]
  },
  {
   "cell_type": "code",
   "execution_count": 7,
   "metadata": {
    "execution": {
     "iopub.execute_input": "2021-10-13T23:52:31.564327Z",
     "iopub.status.busy": "2021-10-13T23:52:31.564055Z",
     "iopub.status.idle": "2021-10-13T23:52:31.569727Z",
     "shell.execute_reply": "2021-10-13T23:52:31.568843Z",
     "shell.execute_reply.started": "2021-10-13T23:52:31.564301Z"
    }
   },
   "outputs": [
    {
     "data": {
      "text/plain": [
       "(576487, 41)"
      ]
     },
     "execution_count": 7,
     "metadata": {},
     "output_type": "execute_result"
    }
   ],
   "source": [
    "df.shape"
   ]
  },
  {
   "cell_type": "markdown",
   "metadata": {},
   "source": [
    "## Exploratory Data Analysis"
   ]
  },
  {
   "cell_type": "code",
   "execution_count": 8,
   "metadata": {
    "execution": {
     "iopub.execute_input": "2021-10-13T23:52:31.5716Z",
     "iopub.status.busy": "2021-10-13T23:52:31.571057Z",
     "iopub.status.idle": "2021-10-13T23:52:31.783247Z",
     "shell.execute_reply": "2021-10-13T23:52:31.782589Z",
     "shell.execute_reply.started": "2021-10-13T23:52:31.57156Z"
    }
   },
   "outputs": [
    {
     "data": {
      "text/plain": [
       "(576487, 41)"
      ]
     },
     "execution_count": 8,
     "metadata": {},
     "output_type": "execute_result"
    }
   ],
   "source": [
    "df_c1 = df.copy()\n",
    "df_c1.shape"
   ]
  },
  {
   "cell_type": "code",
   "execution_count": 13,
   "metadata": {
    "execution": {
     "iopub.execute_input": "2021-10-13T23:52:31.78447Z",
     "iopub.status.busy": "2021-10-13T23:52:31.784093Z",
     "iopub.status.idle": "2021-10-13T23:52:34.180161Z",
     "shell.execute_reply": "2021-10-13T23:52:34.179167Z",
     "shell.execute_reply.started": "2021-10-13T23:52:31.784443Z"
    }
   },
   "outputs": [],
   "source": [
    "df_c1 =df_c1.drop_duplicates()"
   ]
  },
  {
   "cell_type": "code",
   "execution_count": 12,
   "metadata": {
    "execution": {
     "iopub.execute_input": "2021-10-13T23:52:34.181712Z",
     "iopub.status.busy": "2021-10-13T23:52:34.18145Z",
     "iopub.status.idle": "2021-10-13T23:52:34.186455Z",
     "shell.execute_reply": "2021-10-13T23:52:34.185811Z",
     "shell.execute_reply.started": "2021-10-13T23:52:34.181687Z"
    }
   },
   "outputs": [
    {
     "data": {
      "text/plain": [
       "(576487, 41)"
      ]
     },
     "execution_count": 12,
     "metadata": {},
     "output_type": "execute_result"
    }
   ],
   "source": [
    "df_c1.shape"
   ]
  },
  {
   "cell_type": "markdown",
   "metadata": {},
   "source": [
    "## Dropping Non-informational Features"
   ]
  },
  {
   "cell_type": "code",
   "execution_count": 14,
   "metadata": {
    "execution": {
     "iopub.execute_input": "2021-10-13T23:52:34.187745Z",
     "iopub.status.busy": "2021-10-13T23:52:34.187374Z",
     "iopub.status.idle": "2021-10-13T23:52:34.199138Z",
     "shell.execute_reply": "2021-10-13T23:52:34.198418Z",
     "shell.execute_reply.started": "2021-10-13T23:52:34.187718Z"
    }
   },
   "outputs": [
    {
     "data": {
      "text/plain": [
       "Index(['Unique Key', 'Created Date', 'Closed Date', 'Agency', 'Agency Name',\n",
       "       'Complaint Type', 'Descriptor', 'Location Type', 'Incident Zip',\n",
       "       'Incident Address', 'Street Name', 'Cross Street 1', 'Cross Street 2',\n",
       "       'Intersection Street 1', 'Intersection Street 2', 'Address Type',\n",
       "       'City', 'Landmark', 'Facility Type', 'Status', 'Due Date',\n",
       "       'Resolution Description', 'Resolution Action Updated Date',\n",
       "       'Community Board', 'BBL', 'Borough', 'X Coordinate (State Plane)',\n",
       "       'Y Coordinate (State Plane)', 'Open Data Channel Type',\n",
       "       'Park Facility Name', 'Park Borough', 'Vehicle Type',\n",
       "       'Taxi Company Borough', 'Taxi Pick Up Location', 'Bridge Highway Name',\n",
       "       'Bridge Highway Direction', 'Road Ramp', 'Bridge Highway Segment',\n",
       "       'Latitude', 'Longitude', 'Location'],\n",
       "      dtype='object')"
      ]
     },
     "execution_count": 14,
     "metadata": {},
     "output_type": "execute_result"
    }
   ],
   "source": [
    "df_c1.columns"
   ]
  },
  {
   "cell_type": "code",
   "execution_count": 15,
   "metadata": {
    "execution": {
     "iopub.execute_input": "2021-10-13T23:52:34.20203Z",
     "iopub.status.busy": "2021-10-13T23:52:34.201634Z",
     "iopub.status.idle": "2021-10-13T23:52:34.78998Z",
     "shell.execute_reply": "2021-10-13T23:52:34.789023Z",
     "shell.execute_reply.started": "2021-10-13T23:52:34.202002Z"
    }
   },
   "outputs": [
    {
     "data": {
      "text/plain": [
       "Unique Key                             0\n",
       "Created Date                           0\n",
       "Closed Date                         6245\n",
       "Agency                                 0\n",
       "Agency Name                            0\n",
       "Complaint Type                         0\n",
       "Descriptor                             0\n",
       "Location Type                       8694\n",
       "Incident Zip                       13286\n",
       "Incident Address                   87655\n",
       "Street Name                        87655\n",
       "Cross Street 1                    141042\n",
       "Cross Street 2                    163011\n",
       "Intersection Street 1             491742\n",
       "Intersection Street 2             491742\n",
       "Address Type                        2946\n",
       "City                               13235\n",
       "Landmark                          576487\n",
       "Facility Type                     354799\n",
       "Status                                 0\n",
       "Due Date                          533927\n",
       "Resolution Description             49243\n",
       "Resolution Action Updated Date      1846\n",
       "Community Board                     1588\n",
       "BBL                               117503\n",
       "Borough                             1588\n",
       "X Coordinate (State Plane)         13794\n",
       "Y Coordinate (State Plane)         13794\n",
       "Open Data Channel Type                 0\n",
       "Park Facility Name                     0\n",
       "Park Borough                        1588\n",
       "Vehicle Type                      576487\n",
       "Taxi Company Borough              576487\n",
       "Taxi Pick Up Location             576487\n",
       "Bridge Highway Name               576487\n",
       "Bridge Highway Direction          576487\n",
       "Road Ramp                         576487\n",
       "Bridge Highway Segment            576487\n",
       "Latitude                           13794\n",
       "Longitude                          13794\n",
       "Location                           13794\n",
       "dtype: int64"
      ]
     },
     "execution_count": 15,
     "metadata": {},
     "output_type": "execute_result"
    }
   ],
   "source": [
    "df_c1.isna().sum()"
   ]
  },
  {
   "cell_type": "code",
   "execution_count": 16,
   "metadata": {
    "execution": {
     "iopub.execute_input": "2021-10-13T23:52:34.791923Z",
     "iopub.status.busy": "2021-10-13T23:52:34.791645Z",
     "iopub.status.idle": "2021-10-13T23:52:35.350515Z",
     "shell.execute_reply": "2021-10-13T23:52:35.34948Z",
     "shell.execute_reply.started": "2021-10-13T23:52:34.791893Z"
    }
   },
   "outputs": [
    {
     "data": {
      "text/plain": [
       "Unique Key                        False\n",
       "Created Date                      False\n",
       "Closed Date                        True\n",
       "Agency                            False\n",
       "Agency Name                       False\n",
       "Complaint Type                    False\n",
       "Descriptor                        False\n",
       "Location Type                      True\n",
       "Incident Zip                       True\n",
       "Incident Address                   True\n",
       "Street Name                        True\n",
       "Cross Street 1                     True\n",
       "Cross Street 2                     True\n",
       "Intersection Street 1              True\n",
       "Intersection Street 2              True\n",
       "Address Type                       True\n",
       "City                               True\n",
       "Landmark                           True\n",
       "Facility Type                      True\n",
       "Status                            False\n",
       "Due Date                           True\n",
       "Resolution Description             True\n",
       "Resolution Action Updated Date     True\n",
       "Community Board                    True\n",
       "BBL                                True\n",
       "Borough                            True\n",
       "X Coordinate (State Plane)         True\n",
       "Y Coordinate (State Plane)         True\n",
       "Open Data Channel Type            False\n",
       "Park Facility Name                False\n",
       "Park Borough                       True\n",
       "Vehicle Type                       True\n",
       "Taxi Company Borough               True\n",
       "Taxi Pick Up Location              True\n",
       "Bridge Highway Name                True\n",
       "Bridge Highway Direction           True\n",
       "Road Ramp                          True\n",
       "Bridge Highway Segment             True\n",
       "Latitude                           True\n",
       "Longitude                          True\n",
       "Location                           True\n",
       "dtype: bool"
      ]
     },
     "execution_count": 16,
     "metadata": {},
     "output_type": "execute_result"
    }
   ],
   "source": [
    "df_c1.isna().any()"
   ]
  },
  {
   "cell_type": "code",
   "execution_count": 18,
   "metadata": {
    "execution": {
     "iopub.execute_input": "2021-10-13T23:52:35.930053Z",
     "iopub.status.busy": "2021-10-13T23:52:35.929783Z",
     "iopub.status.idle": "2021-10-13T23:52:36.530791Z",
     "shell.execute_reply": "2021-10-13T23:52:36.529958Z",
     "shell.execute_reply.started": "2021-10-13T23:52:35.930029Z"
    }
   },
   "outputs": [
    {
     "data": {
      "text/plain": [
       "Vehicle Type                      100.000000\n",
       "Taxi Company Borough              100.000000\n",
       "Landmark                          100.000000\n",
       "Bridge Highway Segment            100.000000\n",
       "Road Ramp                         100.000000\n",
       "Bridge Highway Direction          100.000000\n",
       "Bridge Highway Name               100.000000\n",
       "Taxi Pick Up Location             100.000000\n",
       "Due Date                           92.617353\n",
       "Intersection Street 1              85.299755\n",
       "Intersection Street 2              85.299755\n",
       "Facility Type                      61.545013\n",
       "Cross Street 2                     28.276613\n",
       "Cross Street 1                     24.465773\n",
       "BBL                                20.382593\n",
       "Street Name                        15.205026\n",
       "Incident Address                   15.205026\n",
       "Resolution Description              8.541910\n",
       "Longitude                           2.392769\n",
       "Location                            2.392769\n",
       "Latitude                            2.392769\n",
       "X Coordinate (State Plane)          2.392769\n",
       "Y Coordinate (State Plane)          2.392769\n",
       "Incident Zip                        2.304649\n",
       "City                                2.295802\n",
       "Location Type                       1.508100\n",
       "Closed Date                         1.083285\n",
       "Address Type                        0.511026\n",
       "Resolution Action Updated Date      0.320215\n",
       "Park Borough                        0.275462\n",
       "Borough                             0.275462\n",
       "Community Board                     0.275462\n",
       "Status                              0.000000\n",
       "Park Facility Name                  0.000000\n",
       "Open Data Channel Type              0.000000\n",
       "Descriptor                          0.000000\n",
       "Complaint Type                      0.000000\n",
       "Agency Name                         0.000000\n",
       "Agency                              0.000000\n",
       "Created Date                        0.000000\n",
       "Unique Key                          0.000000\n",
       "dtype: float64"
      ]
     },
     "execution_count": 18,
     "metadata": {},
     "output_type": "execute_result"
    }
   ],
   "source": [
    "df_c1.isnull().sum().sort_values(ascending =False)/len(df_c1)*100"
   ]
  },
  {
   "cell_type": "code",
   "execution_count": 19,
   "metadata": {
    "execution": {
     "iopub.execute_input": "2021-10-13T23:52:36.532691Z",
     "iopub.status.busy": "2021-10-13T23:52:36.532083Z",
     "iopub.status.idle": "2021-10-13T23:52:36.776906Z",
     "shell.execute_reply": "2021-10-13T23:52:36.775843Z",
     "shell.execute_reply.started": "2021-10-13T23:52:36.532651Z"
    }
   },
   "outputs": [
    {
     "data": {
      "text/html": [
       "<div>\n",
       "<style scoped>\n",
       "    .dataframe tbody tr th:only-of-type {\n",
       "        vertical-align: middle;\n",
       "    }\n",
       "\n",
       "    .dataframe tbody tr th {\n",
       "        vertical-align: top;\n",
       "    }\n",
       "\n",
       "    .dataframe thead th {\n",
       "        text-align: right;\n",
       "    }\n",
       "</style>\n",
       "<table border=\"1\" class=\"dataframe\">\n",
       "  <thead>\n",
       "    <tr style=\"text-align: right;\">\n",
       "      <th></th>\n",
       "      <th>Unique Key</th>\n",
       "      <th>Incident Zip</th>\n",
       "      <th>Landmark</th>\n",
       "      <th>BBL</th>\n",
       "      <th>X Coordinate (State Plane)</th>\n",
       "      <th>Y Coordinate (State Plane)</th>\n",
       "      <th>Vehicle Type</th>\n",
       "      <th>Taxi Company Borough</th>\n",
       "      <th>Taxi Pick Up Location</th>\n",
       "      <th>Bridge Highway Name</th>\n",
       "      <th>Bridge Highway Direction</th>\n",
       "      <th>Road Ramp</th>\n",
       "      <th>Bridge Highway Segment</th>\n",
       "      <th>Latitude</th>\n",
       "      <th>Longitude</th>\n",
       "    </tr>\n",
       "  </thead>\n",
       "  <tbody>\n",
       "    <tr>\n",
       "      <th>count</th>\n",
       "      <td>5.764870e+05</td>\n",
       "      <td>563201.000000</td>\n",
       "      <td>0.0</td>\n",
       "      <td>4.589840e+05</td>\n",
       "      <td>5.626930e+05</td>\n",
       "      <td>562693.000000</td>\n",
       "      <td>0.0</td>\n",
       "      <td>0.0</td>\n",
       "      <td>0.0</td>\n",
       "      <td>0.0</td>\n",
       "      <td>0.0</td>\n",
       "      <td>0.0</td>\n",
       "      <td>0.0</td>\n",
       "      <td>562693.000000</td>\n",
       "      <td>562693.000000</td>\n",
       "    </tr>\n",
       "    <tr>\n",
       "      <th>mean</th>\n",
       "      <td>3.434223e+07</td>\n",
       "      <td>10948.041131</td>\n",
       "      <td>NaN</td>\n",
       "      <td>3.252008e+09</td>\n",
       "      <td>1.003264e+06</td>\n",
       "      <td>194139.609334</td>\n",
       "      <td>NaN</td>\n",
       "      <td>NaN</td>\n",
       "      <td>NaN</td>\n",
       "      <td>NaN</td>\n",
       "      <td>NaN</td>\n",
       "      <td>NaN</td>\n",
       "      <td>NaN</td>\n",
       "      <td>40.699478</td>\n",
       "      <td>-73.931362</td>\n",
       "    </tr>\n",
       "    <tr>\n",
       "      <th>std</th>\n",
       "      <td>2.546940e+06</td>\n",
       "      <td>507.500466</td>\n",
       "      <td>NaN</td>\n",
       "      <td>1.135821e+09</td>\n",
       "      <td>2.863856e+04</td>\n",
       "      <td>29673.318282</td>\n",
       "      <td>NaN</td>\n",
       "      <td>NaN</td>\n",
       "      <td>NaN</td>\n",
       "      <td>NaN</td>\n",
       "      <td>NaN</td>\n",
       "      <td>NaN</td>\n",
       "      <td>NaN</td>\n",
       "      <td>0.081444</td>\n",
       "      <td>0.103245</td>\n",
       "    </tr>\n",
       "    <tr>\n",
       "      <th>min</th>\n",
       "      <td>2.961246e+07</td>\n",
       "      <td>0.000000</td>\n",
       "      <td>NaN</td>\n",
       "      <td>0.000000e+00</td>\n",
       "      <td>9.133570e+05</td>\n",
       "      <td>121098.000000</td>\n",
       "      <td>NaN</td>\n",
       "      <td>NaN</td>\n",
       "      <td>NaN</td>\n",
       "      <td>NaN</td>\n",
       "      <td>NaN</td>\n",
       "      <td>NaN</td>\n",
       "      <td>NaN</td>\n",
       "      <td>40.498807</td>\n",
       "      <td>-74.254937</td>\n",
       "    </tr>\n",
       "    <tr>\n",
       "      <th>25%</th>\n",
       "      <td>3.210910e+07</td>\n",
       "      <td>10458.000000</td>\n",
       "      <td>NaN</td>\n",
       "      <td>3.009370e+09</td>\n",
       "      <td>9.887710e+05</td>\n",
       "      <td>171770.000000</td>\n",
       "      <td>NaN</td>\n",
       "      <td>NaN</td>\n",
       "      <td>NaN</td>\n",
       "      <td>NaN</td>\n",
       "      <td>NaN</td>\n",
       "      <td>NaN</td>\n",
       "      <td>NaN</td>\n",
       "      <td>40.638117</td>\n",
       "      <td>-73.983699</td>\n",
       "    </tr>\n",
       "    <tr>\n",
       "      <th>50%</th>\n",
       "      <td>3.458516e+07</td>\n",
       "      <td>11215.000000</td>\n",
       "      <td>NaN</td>\n",
       "      <td>3.064080e+09</td>\n",
       "      <td>1.003949e+06</td>\n",
       "      <td>190785.000000</td>\n",
       "      <td>NaN</td>\n",
       "      <td>NaN</td>\n",
       "      <td>NaN</td>\n",
       "      <td>NaN</td>\n",
       "      <td>NaN</td>\n",
       "      <td>NaN</td>\n",
       "      <td>NaN</td>\n",
       "      <td>40.690236</td>\n",
       "      <td>-73.928956</td>\n",
       "    </tr>\n",
       "    <tr>\n",
       "      <th>75%</th>\n",
       "      <td>3.673069e+07</td>\n",
       "      <td>11358.000000</td>\n",
       "      <td>NaN</td>\n",
       "      <td>4.082320e+09</td>\n",
       "      <td>1.022870e+06</td>\n",
       "      <td>212485.000000</td>\n",
       "      <td>NaN</td>\n",
       "      <td>NaN</td>\n",
       "      <td>NaN</td>\n",
       "      <td>NaN</td>\n",
       "      <td>NaN</td>\n",
       "      <td>NaN</td>\n",
       "      <td>NaN</td>\n",
       "      <td>40.749821</td>\n",
       "      <td>-73.860590</td>\n",
       "    </tr>\n",
       "    <tr>\n",
       "      <th>max</th>\n",
       "      <td>3.834384e+07</td>\n",
       "      <td>11697.000000</td>\n",
       "      <td>NaN</td>\n",
       "      <td>5.200150e+09</td>\n",
       "      <td>1.067279e+06</td>\n",
       "      <td>271755.000000</td>\n",
       "      <td>NaN</td>\n",
       "      <td>NaN</td>\n",
       "      <td>NaN</td>\n",
       "      <td>NaN</td>\n",
       "      <td>NaN</td>\n",
       "      <td>NaN</td>\n",
       "      <td>NaN</td>\n",
       "      <td>40.912536</td>\n",
       "      <td>-73.700384</td>\n",
       "    </tr>\n",
       "  </tbody>\n",
       "</table>\n",
       "</div>"
      ],
      "text/plain": [
       "         Unique Key   Incident Zip  Landmark           BBL  \\\n",
       "count  5.764870e+05  563201.000000       0.0  4.589840e+05   \n",
       "mean   3.434223e+07   10948.041131       NaN  3.252008e+09   \n",
       "std    2.546940e+06     507.500466       NaN  1.135821e+09   \n",
       "min    2.961246e+07       0.000000       NaN  0.000000e+00   \n",
       "25%    3.210910e+07   10458.000000       NaN  3.009370e+09   \n",
       "50%    3.458516e+07   11215.000000       NaN  3.064080e+09   \n",
       "75%    3.673069e+07   11358.000000       NaN  4.082320e+09   \n",
       "max    3.834384e+07   11697.000000       NaN  5.200150e+09   \n",
       "\n",
       "       X Coordinate (State Plane)  Y Coordinate (State Plane)  Vehicle Type  \\\n",
       "count                5.626930e+05               562693.000000           0.0   \n",
       "mean                 1.003264e+06               194139.609334           NaN   \n",
       "std                  2.863856e+04                29673.318282           NaN   \n",
       "min                  9.133570e+05               121098.000000           NaN   \n",
       "25%                  9.887710e+05               171770.000000           NaN   \n",
       "50%                  1.003949e+06               190785.000000           NaN   \n",
       "75%                  1.022870e+06               212485.000000           NaN   \n",
       "max                  1.067279e+06               271755.000000           NaN   \n",
       "\n",
       "       Taxi Company Borough  Taxi Pick Up Location  Bridge Highway Name  \\\n",
       "count                   0.0                    0.0                  0.0   \n",
       "mean                    NaN                    NaN                  NaN   \n",
       "std                     NaN                    NaN                  NaN   \n",
       "min                     NaN                    NaN                  NaN   \n",
       "25%                     NaN                    NaN                  NaN   \n",
       "50%                     NaN                    NaN                  NaN   \n",
       "75%                     NaN                    NaN                  NaN   \n",
       "max                     NaN                    NaN                  NaN   \n",
       "\n",
       "       Bridge Highway Direction  Road Ramp  Bridge Highway Segment  \\\n",
       "count                       0.0        0.0                     0.0   \n",
       "mean                        NaN        NaN                     NaN   \n",
       "std                         NaN        NaN                     NaN   \n",
       "min                         NaN        NaN                     NaN   \n",
       "25%                         NaN        NaN                     NaN   \n",
       "50%                         NaN        NaN                     NaN   \n",
       "75%                         NaN        NaN                     NaN   \n",
       "max                         NaN        NaN                     NaN   \n",
       "\n",
       "            Latitude      Longitude  \n",
       "count  562693.000000  562693.000000  \n",
       "mean       40.699478     -73.931362  \n",
       "std         0.081444       0.103245  \n",
       "min        40.498807     -74.254937  \n",
       "25%        40.638117     -73.983699  \n",
       "50%        40.690236     -73.928956  \n",
       "75%        40.749821     -73.860590  \n",
       "max        40.912536     -73.700384  "
      ]
     },
     "execution_count": 19,
     "metadata": {},
     "output_type": "execute_result"
    }
   ],
   "source": [
    "df_c1.describe()"
   ]
  },
  {
   "cell_type": "code",
   "execution_count": 20,
   "metadata": {
    "execution": {
     "iopub.execute_input": "2021-10-13T23:52:36.779824Z",
     "iopub.status.busy": "2021-10-13T23:52:36.779203Z",
     "iopub.status.idle": "2021-10-13T23:52:37.364951Z",
     "shell.execute_reply": "2021-10-13T23:52:37.363938Z",
     "shell.execute_reply.started": "2021-10-13T23:52:36.779779Z"
    }
   },
   "outputs": [
    {
     "data": {
      "text/html": [
       "<div>\n",
       "<style scoped>\n",
       "    .dataframe tbody tr th:only-of-type {\n",
       "        vertical-align: middle;\n",
       "    }\n",
       "\n",
       "    .dataframe tbody tr th {\n",
       "        vertical-align: top;\n",
       "    }\n",
       "\n",
       "    .dataframe thead th {\n",
       "        text-align: right;\n",
       "    }\n",
       "</style>\n",
       "<table border=\"1\" class=\"dataframe\">\n",
       "  <thead>\n",
       "    <tr style=\"text-align: right;\">\n",
       "      <th></th>\n",
       "      <th>Features</th>\n",
       "      <th>% Missing</th>\n",
       "    </tr>\n",
       "  </thead>\n",
       "  <tbody>\n",
       "    <tr>\n",
       "      <th>0</th>\n",
       "      <td>Vehicle Type</td>\n",
       "      <td>100.000000</td>\n",
       "    </tr>\n",
       "    <tr>\n",
       "      <th>1</th>\n",
       "      <td>Taxi Company Borough</td>\n",
       "      <td>100.000000</td>\n",
       "    </tr>\n",
       "    <tr>\n",
       "      <th>2</th>\n",
       "      <td>Landmark</td>\n",
       "      <td>100.000000</td>\n",
       "    </tr>\n",
       "    <tr>\n",
       "      <th>3</th>\n",
       "      <td>Bridge Highway Segment</td>\n",
       "      <td>100.000000</td>\n",
       "    </tr>\n",
       "    <tr>\n",
       "      <th>4</th>\n",
       "      <td>Road Ramp</td>\n",
       "      <td>100.000000</td>\n",
       "    </tr>\n",
       "    <tr>\n",
       "      <th>5</th>\n",
       "      <td>Bridge Highway Direction</td>\n",
       "      <td>100.000000</td>\n",
       "    </tr>\n",
       "    <tr>\n",
       "      <th>6</th>\n",
       "      <td>Bridge Highway Name</td>\n",
       "      <td>100.000000</td>\n",
       "    </tr>\n",
       "    <tr>\n",
       "      <th>7</th>\n",
       "      <td>Taxi Pick Up Location</td>\n",
       "      <td>100.000000</td>\n",
       "    </tr>\n",
       "    <tr>\n",
       "      <th>8</th>\n",
       "      <td>Due Date</td>\n",
       "      <td>92.617353</td>\n",
       "    </tr>\n",
       "    <tr>\n",
       "      <th>9</th>\n",
       "      <td>Intersection Street 1</td>\n",
       "      <td>85.299755</td>\n",
       "    </tr>\n",
       "    <tr>\n",
       "      <th>10</th>\n",
       "      <td>Intersection Street 2</td>\n",
       "      <td>85.299755</td>\n",
       "    </tr>\n",
       "    <tr>\n",
       "      <th>11</th>\n",
       "      <td>Facility Type</td>\n",
       "      <td>61.545013</td>\n",
       "    </tr>\n",
       "  </tbody>\n",
       "</table>\n",
       "</div>"
      ],
      "text/plain": [
       "                    Features   % Missing\n",
       "0               Vehicle Type  100.000000\n",
       "1       Taxi Company Borough  100.000000\n",
       "2                   Landmark  100.000000\n",
       "3     Bridge Highway Segment  100.000000\n",
       "4                  Road Ramp  100.000000\n",
       "5   Bridge Highway Direction  100.000000\n",
       "6        Bridge Highway Name  100.000000\n",
       "7      Taxi Pick Up Location  100.000000\n",
       "8                   Due Date   92.617353\n",
       "9      Intersection Street 1   85.299755\n",
       "10     Intersection Street 2   85.299755\n",
       "11             Facility Type   61.545013"
      ]
     },
     "execution_count": 20,
     "metadata": {},
     "output_type": "execute_result"
    }
   ],
   "source": [
    "# Computing the % of missing Values\n",
    "\n",
    "percent_missing = pd.DataFrame(df_c1.isnull().sum().sort_values(ascending=False)/ len(df_c1)*100, columns=['% Missing'])\n",
    "percent_missing = percent_missing.rename_axis('Features').reset_index()\n",
    "percent_missing.head(12)"
   ]
  },
  {
   "cell_type": "code",
   "execution_count": 21,
   "metadata": {
    "execution": {
     "iopub.execute_input": "2021-10-13T23:52:37.366741Z",
     "iopub.status.busy": "2021-10-13T23:52:37.366368Z",
     "iopub.status.idle": "2021-10-13T23:52:37.608243Z",
     "shell.execute_reply": "2021-10-13T23:52:37.607286Z",
     "shell.execute_reply.started": "2021-10-13T23:52:37.366701Z"
    }
   },
   "outputs": [
    {
     "data": {
      "image/png": "[encoded data removed]",
      "text/plain": [
       "<Figure size 432x288 with 1 Axes>"
      ]
     },
     "metadata": {
      "needs_background": "light"
     },
     "output_type": "display_data"
    }
   ],
   "source": [
    "# Filtering the subset with morethan 80% of missing values\n",
    "\n",
    "p_80 = percent_missing[percent_missing['% Missing'] >=80]\n",
    "\n",
    "#bar plot \n",
    "ax = sns.barplot(x=p_80['% Missing'], y =p_80['Features'], orient='h')"
   ]
  },
  {
   "cell_type": "code",
   "execution_count": 25,
   "metadata": {
    "execution": {
     "iopub.execute_input": "2021-10-13T23:52:37.782107Z",
     "iopub.status.busy": "2021-10-13T23:52:37.781845Z",
     "iopub.status.idle": "2021-10-13T23:52:37.787591Z",
     "shell.execute_reply": "2021-10-13T23:52:37.787045Z",
     "shell.execute_reply.started": "2021-10-13T23:52:37.782082Z"
    }
   },
   "outputs": [
    {
     "data": {
      "text/plain": [
       "(576487, 30)"
      ]
     },
     "execution_count": 25,
     "metadata": {},
     "output_type": "execute_result"
    }
   ],
   "source": [
    "#After dropping the columns with >80% missing data: Rows, Columns\n",
    "\n",
    "df_c1.shape"
   ]
  },
  {
   "cell_type": "markdown",
   "metadata": {},
   "source": [
    "## Checking the cardinality"
   ]
  },
  {
   "cell_type": "code",
   "execution_count": 27,
   "metadata": {
    "execution": {
     "iopub.execute_input": "2021-10-13T23:52:37.788717Z",
     "iopub.status.busy": "2021-10-13T23:52:37.788393Z",
     "iopub.status.idle": "2021-10-13T23:52:39.712931Z",
     "shell.execute_reply": "2021-10-13T23:52:39.712037Z",
     "shell.execute_reply.started": "2021-10-13T23:52:37.788693Z"
    }
   },
   "outputs": [
    {
     "data": {
      "text/html": [
       "<div>\n",
       "<style scoped>\n",
       "    .dataframe tbody tr th:only-of-type {\n",
       "        vertical-align: middle;\n",
       "    }\n",
       "\n",
       "    .dataframe tbody tr th {\n",
       "        vertical-align: top;\n",
       "    }\n",
       "\n",
       "    .dataframe thead th {\n",
       "        text-align: right;\n",
       "    }\n",
       "</style>\n",
       "<table border=\"1\" class=\"dataframe\">\n",
       "  <thead>\n",
       "    <tr style=\"text-align: right;\">\n",
       "      <th></th>\n",
       "      <th>index</th>\n",
       "      <th>Cardinality</th>\n",
       "    </tr>\n",
       "  </thead>\n",
       "  <tbody>\n",
       "    <tr>\n",
       "      <th>0</th>\n",
       "      <td>Unique Key</td>\n",
       "      <td>576487</td>\n",
       "    </tr>\n",
       "    <tr>\n",
       "      <th>1</th>\n",
       "      <td>Created Date</td>\n",
       "      <td>386117</td>\n",
       "    </tr>\n",
       "    <tr>\n",
       "      <th>29</th>\n",
       "      <td>Location</td>\n",
       "      <td>285656</td>\n",
       "    </tr>\n",
       "    <tr>\n",
       "      <th>27</th>\n",
       "      <td>Latitude</td>\n",
       "      <td>285654</td>\n",
       "    </tr>\n",
       "    <tr>\n",
       "      <th>28</th>\n",
       "      <td>Longitude</td>\n",
       "      <td>285654</td>\n",
       "    </tr>\n",
       "    <tr>\n",
       "      <th>9</th>\n",
       "      <td>Incident Address</td>\n",
       "      <td>265035</td>\n",
       "    </tr>\n",
       "    <tr>\n",
       "      <th>20</th>\n",
       "      <td>BBL</td>\n",
       "      <td>225088</td>\n",
       "    </tr>\n",
       "    <tr>\n",
       "      <th>23</th>\n",
       "      <td>Y Coordinate (State Plane)</td>\n",
       "      <td>106643</td>\n",
       "    </tr>\n",
       "    <tr>\n",
       "      <th>22</th>\n",
       "      <td>X Coordinate (State Plane)</td>\n",
       "      <td>101059</td>\n",
       "    </tr>\n",
       "    <tr>\n",
       "      <th>18</th>\n",
       "      <td>Resolution Action Updated Date</td>\n",
       "      <td>32635</td>\n",
       "    </tr>\n",
       "  </tbody>\n",
       "</table>\n",
       "</div>"
      ],
      "text/plain": [
       "                             index  Cardinality\n",
       "0                       Unique Key       576487\n",
       "1                     Created Date       386117\n",
       "29                        Location       285656\n",
       "27                        Latitude       285654\n",
       "28                       Longitude       285654\n",
       "9                 Incident Address       265035\n",
       "20                             BBL       225088\n",
       "23      Y Coordinate (State Plane)       106643\n",
       "22      X Coordinate (State Plane)       101059\n",
       "18  Resolution Action Updated Date        32635"
      ]
     },
     "execution_count": 27,
     "metadata": {},
     "output_type": "execute_result"
    }
   ],
   "source": [
    "# Computing the Cardinality of the features\n",
    "\n",
    "cardinality = pd.DataFrame(df_c1.nunique(), columns=['Cardinality'])\n",
    "cardinality = cardinality.reset_index().sort_values(by='Cardinality', ascending=False)\n",
    "cardinality.head(10)"
   ]
  },
  {
   "cell_type": "code",
   "execution_count": 28,
   "metadata": {
    "execution": {
     "iopub.execute_input": "2021-10-13T23:52:39.714378Z",
     "iopub.status.busy": "2021-10-13T23:52:39.714093Z",
     "iopub.status.idle": "2021-10-13T23:52:39.742547Z",
     "shell.execute_reply": "2021-10-13T23:52:39.741474Z",
     "shell.execute_reply.started": "2021-10-13T23:52:39.714344Z"
    }
   },
   "outputs": [
    {
     "data": {
      "text/html": [
       "<div>\n",
       "<style scoped>\n",
       "    .dataframe tbody tr th:only-of-type {\n",
       "        vertical-align: middle;\n",
       "    }\n",
       "\n",
       "    .dataframe tbody tr th {\n",
       "        vertical-align: top;\n",
       "    }\n",
       "\n",
       "    .dataframe thead th {\n",
       "        text-align: right;\n",
       "    }\n",
       "</style>\n",
       "<table border=\"1\" class=\"dataframe\">\n",
       "  <thead>\n",
       "    <tr style=\"text-align: right;\">\n",
       "      <th></th>\n",
       "      <th>Unique Key</th>\n",
       "      <th>Location</th>\n",
       "      <th>Latitude</th>\n",
       "      <th>Longitude</th>\n",
       "      <th>BBL</th>\n",
       "      <th>Y Coordinate (State Plane)</th>\n",
       "      <th>X Coordinate (State Plane)</th>\n",
       "    </tr>\n",
       "  </thead>\n",
       "  <tbody>\n",
       "    <tr>\n",
       "      <th>576482</th>\n",
       "      <td>38093331</td>\n",
       "      <td>(40.69413344540047, -73.96414420184784)</td>\n",
       "      <td>40.694133</td>\n",
       "      <td>-73.964144</td>\n",
       "      <td>3.018930e+09</td>\n",
       "      <td>192170.0</td>\n",
       "      <td>994193.0</td>\n",
       "    </tr>\n",
       "    <tr>\n",
       "      <th>576483</th>\n",
       "      <td>38093343</td>\n",
       "      <td>(40.6531292016264, -73.95610427350206)</td>\n",
       "      <td>40.653129</td>\n",
       "      <td>-73.956104</td>\n",
       "      <td>3.050838e+09</td>\n",
       "      <td>177232.0</td>\n",
       "      <td>996430.0</td>\n",
       "    </tr>\n",
       "    <tr>\n",
       "      <th>576484</th>\n",
       "      <td>32306758</td>\n",
       "      <td>(40.67770285755642, -73.76002369489642)</td>\n",
       "      <td>40.677703</td>\n",
       "      <td>-73.760024</td>\n",
       "      <td>4.129970e+09</td>\n",
       "      <td>186273.0</td>\n",
       "      <td>1050813.0</td>\n",
       "    </tr>\n",
       "    <tr>\n",
       "      <th>576485</th>\n",
       "      <td>32308741</td>\n",
       "      <td>(40.728622570989664, -73.72048407679036)</td>\n",
       "      <td>40.728623</td>\n",
       "      <td>-73.720484</td>\n",
       "      <td>4.086370e+09</td>\n",
       "      <td>204857.0</td>\n",
       "      <td>1061721.0</td>\n",
       "    </tr>\n",
       "    <tr>\n",
       "      <th>576486</th>\n",
       "      <td>32310482</td>\n",
       "      <td>(40.7126409467281, -73.80015367274495)</td>\n",
       "      <td>40.712641</td>\n",
       "      <td>-73.800154</td>\n",
       "      <td>4.098470e+09</td>\n",
       "      <td>198974.0</td>\n",
       "      <td>1039653.0</td>\n",
       "    </tr>\n",
       "  </tbody>\n",
       "</table>\n",
       "</div>"
      ],
      "text/plain": [
       "        Unique Key                                  Location   Latitude  \\\n",
       "576482    38093331   (40.69413344540047, -73.96414420184784)  40.694133   \n",
       "576483    38093343    (40.6531292016264, -73.95610427350206)  40.653129   \n",
       "576484    32306758   (40.67770285755642, -73.76002369489642)  40.677703   \n",
       "576485    32308741  (40.728622570989664, -73.72048407679036)  40.728623   \n",
       "576486    32310482    (40.7126409467281, -73.80015367274495)  40.712641   \n",
       "\n",
       "        Longitude           BBL  Y Coordinate (State Plane)  \\\n",
       "576482 -73.964144  3.018930e+09                    192170.0   \n",
       "576483 -73.956104  3.050838e+09                    177232.0   \n",
       "576484 -73.760024  4.129970e+09                    186273.0   \n",
       "576485 -73.720484  4.086370e+09                    204857.0   \n",
       "576486 -73.800154  4.098470e+09                    198974.0   \n",
       "\n",
       "        X Coordinate (State Plane)  \n",
       "576482                    994193.0  \n",
       "576483                    996430.0  \n",
       "576484                   1050813.0  \n",
       "576485                   1061721.0  \n",
       "576486                   1039653.0  "
      ]
     },
     "execution_count": 28,
     "metadata": {},
     "output_type": "execute_result"
    }
   ],
   "source": [
    "#Extracting high cardinal values\n",
    "\n",
    "high_c = ['Unique Key','Location','Latitude','Longitude','BBL','Y Coordinate (State Plane)',\n",
    "          'X Coordinate (State Plane)']\n",
    "df_c1[high_c].tail()"
   ]
  },
  {
   "cell_type": "code",
   "execution_count": 29,
   "metadata": {
    "execution": {
     "iopub.execute_input": "2021-10-13T23:52:39.743943Z",
     "iopub.status.busy": "2021-10-13T23:52:39.743681Z",
     "iopub.status.idle": "2021-10-13T23:52:39.896939Z",
     "shell.execute_reply": "2021-10-13T23:52:39.896092Z",
     "shell.execute_reply.started": "2021-10-13T23:52:39.74391Z"
    }
   },
   "outputs": [
    {
     "data": {
      "text/plain": [
       "(576487, 23)"
      ]
     },
     "execution_count": 29,
     "metadata": {},
     "output_type": "execute_result"
    }
   ],
   "source": [
    "#dropping the high cardinal features\n",
    "\n",
    "df_c1 = df_c1.drop(columns = high_c)\n",
    "df_c1.shape"
   ]
  },
  {
   "cell_type": "markdown",
   "metadata": {},
   "source": [
    "## Checking the Univariate Variables"
   ]
  },
  {
   "cell_type": "code",
   "execution_count": 30,
   "metadata": {
    "execution": {
     "iopub.execute_input": "2021-10-13T23:52:39.899033Z",
     "iopub.status.busy": "2021-10-13T23:52:39.898432Z",
     "iopub.status.idle": "2021-10-13T23:52:39.913136Z",
     "shell.execute_reply": "2021-10-13T23:52:39.912345Z",
     "shell.execute_reply.started": "2021-10-13T23:52:39.899Z"
    }
   },
   "outputs": [
    {
     "data": {
      "text/html": [
       "<div>\n",
       "<style scoped>\n",
       "    .dataframe tbody tr th:only-of-type {\n",
       "        vertical-align: middle;\n",
       "    }\n",
       "\n",
       "    .dataframe tbody tr th {\n",
       "        vertical-align: top;\n",
       "    }\n",
       "\n",
       "    .dataframe thead th {\n",
       "        text-align: right;\n",
       "    }\n",
       "</style>\n",
       "<table border=\"1\" class=\"dataframe\">\n",
       "  <thead>\n",
       "    <tr style=\"text-align: right;\">\n",
       "      <th></th>\n",
       "      <th>index</th>\n",
       "      <th>Cardinality</th>\n",
       "    </tr>\n",
       "  </thead>\n",
       "  <tbody>\n",
       "    <tr>\n",
       "      <th>3</th>\n",
       "      <td>Agency</td>\n",
       "      <td>1</td>\n",
       "    </tr>\n",
       "    <tr>\n",
       "      <th>25</th>\n",
       "      <td>Park Facility Name</td>\n",
       "      <td>1</td>\n",
       "    </tr>\n",
       "    <tr>\n",
       "      <th>15</th>\n",
       "      <td>Facility Type</td>\n",
       "      <td>1</td>\n",
       "    </tr>\n",
       "  </tbody>\n",
       "</table>\n",
       "</div>"
      ],
      "text/plain": [
       "                 index  Cardinality\n",
       "3               Agency            1\n",
       "25  Park Facility Name            1\n",
       "15       Facility Type            1"
      ]
     },
     "execution_count": 30,
     "metadata": {},
     "output_type": "execute_result"
    }
   ],
   "source": [
    "df_UC = cardinality[cardinality['Cardinality']==1]\n",
    "df_UC"
   ]
  },
  {
   "cell_type": "code",
   "execution_count": 31,
   "metadata": {
    "execution": {
     "iopub.execute_input": "2021-10-13T23:52:39.915344Z",
     "iopub.status.busy": "2021-10-13T23:52:39.914701Z",
     "iopub.status.idle": "2021-10-13T23:52:40.048476Z",
     "shell.execute_reply": "2021-10-13T23:52:40.047755Z",
     "shell.execute_reply.started": "2021-10-13T23:52:39.915312Z"
    }
   },
   "outputs": [],
   "source": [
    "#dropping the univariant variables\n",
    "df_c1 = df_c1.drop(columns = df_UC['index'])"
   ]
  },
  {
   "cell_type": "code",
   "execution_count": 32,
   "metadata": {
    "execution": {
     "iopub.execute_input": "2021-10-13T23:52:40.050085Z",
     "iopub.status.busy": "2021-10-13T23:52:40.049597Z",
     "iopub.status.idle": "2021-10-13T23:52:40.055228Z",
     "shell.execute_reply": "2021-10-13T23:52:40.054408Z",
     "shell.execute_reply.started": "2021-10-13T23:52:40.050054Z"
    }
   },
   "outputs": [
    {
     "data": {
      "text/plain": [
       "(576487, 20)"
      ]
     },
     "execution_count": 32,
     "metadata": {},
     "output_type": "execute_result"
    }
   ],
   "source": [
    "df_c1.shape"
   ]
  },
  {
   "cell_type": "code",
   "execution_count": 33,
   "metadata": {
    "execution": {
     "iopub.execute_input": "2021-10-13T23:52:40.056805Z",
     "iopub.status.busy": "2021-10-13T23:52:40.056445Z",
     "iopub.status.idle": "2021-10-13T23:52:40.086544Z",
     "shell.execute_reply": "2021-10-13T23:52:40.085591Z",
     "shell.execute_reply.started": "2021-10-13T23:52:40.056767Z"
    }
   },
   "outputs": [
    {
     "data": {
      "text/html": [
       "<div>\n",
       "<style scoped>\n",
       "    .dataframe tbody tr th:only-of-type {\n",
       "        vertical-align: middle;\n",
       "    }\n",
       "\n",
       "    .dataframe tbody tr th {\n",
       "        vertical-align: top;\n",
       "    }\n",
       "\n",
       "    .dataframe thead th {\n",
       "        text-align: right;\n",
       "    }\n",
       "</style>\n",
       "<table border=\"1\" class=\"dataframe\">\n",
       "  <thead>\n",
       "    <tr style=\"text-align: right;\">\n",
       "      <th></th>\n",
       "      <th>Created Date</th>\n",
       "      <th>Closed Date</th>\n",
       "      <th>Agency Name</th>\n",
       "      <th>Complaint Type</th>\n",
       "      <th>Descriptor</th>\n",
       "      <th>Location Type</th>\n",
       "      <th>Incident Zip</th>\n",
       "      <th>Incident Address</th>\n",
       "      <th>Street Name</th>\n",
       "      <th>Cross Street 1</th>\n",
       "      <th>Cross Street 2</th>\n",
       "      <th>Address Type</th>\n",
       "      <th>City</th>\n",
       "      <th>Status</th>\n",
       "      <th>Resolution Description</th>\n",
       "      <th>Resolution Action Updated Date</th>\n",
       "      <th>Community Board</th>\n",
       "      <th>Borough</th>\n",
       "      <th>Open Data Channel Type</th>\n",
       "      <th>Park Borough</th>\n",
       "    </tr>\n",
       "  </thead>\n",
       "  <tbody>\n",
       "    <tr>\n",
       "      <th>0</th>\n",
       "      <td>01/07/2015 06:50:12 PM</td>\n",
       "      <td>NaN</td>\n",
       "      <td>Department of Sanitation</td>\n",
       "      <td>Graffiti</td>\n",
       "      <td>Graffiti</td>\n",
       "      <td>NaN</td>\n",
       "      <td>NaN</td>\n",
       "      <td>10 s4 st</td>\n",
       "      <td>s4 st</td>\n",
       "      <td>NaN</td>\n",
       "      <td>NaN</td>\n",
       "      <td>ADDRESS</td>\n",
       "      <td>NaN</td>\n",
       "      <td>Open</td>\n",
       "      <td>NaN</td>\n",
       "      <td>01/07/2015 06:50:12 PM</td>\n",
       "      <td>Unspecified BROOKLYN</td>\n",
       "      <td>BROOKLYN</td>\n",
       "      <td>OTHER</td>\n",
       "      <td>BROOKLYN</td>\n",
       "    </tr>\n",
       "    <tr>\n",
       "      <th>1</th>\n",
       "      <td>01/07/2015 08:17:00 AM</td>\n",
       "      <td>01/07/2015 12:00:00 PM</td>\n",
       "      <td>BCC - Queens East</td>\n",
       "      <td>Snow</td>\n",
       "      <td>15S Re-Plow/Spread/Ice-Snow Cond.</td>\n",
       "      <td>Street</td>\n",
       "      <td>NaN</td>\n",
       "      <td>NaN</td>\n",
       "      <td>NaN</td>\n",
       "      <td>NaN</td>\n",
       "      <td>NaN</td>\n",
       "      <td>INTERSECTION</td>\n",
       "      <td>NaN</td>\n",
       "      <td>Closed</td>\n",
       "      <td>The Department of Sanitation investigated this...</td>\n",
       "      <td>01/07/2015 12:00:00 PM</td>\n",
       "      <td>13 QUEENS</td>\n",
       "      <td>QUEENS</td>\n",
       "      <td>PHONE</td>\n",
       "      <td>QUEENS</td>\n",
       "    </tr>\n",
       "    <tr>\n",
       "      <th>2</th>\n",
       "      <td>01/19/2015 05:00:00 PM</td>\n",
       "      <td>01/21/2015 12:00:00 PM</td>\n",
       "      <td>BCC - Queens West</td>\n",
       "      <td>Litter Basket / Request</td>\n",
       "      <td>10 Litter Basket / Request</td>\n",
       "      <td>Sidewalk</td>\n",
       "      <td>NaN</td>\n",
       "      <td>NaN</td>\n",
       "      <td>NaN</td>\n",
       "      <td>NaN</td>\n",
       "      <td>NaN</td>\n",
       "      <td>INTERSECTION</td>\n",
       "      <td>NaN</td>\n",
       "      <td>Closed</td>\n",
       "      <td>The Department of Sanitation investigated this...</td>\n",
       "      <td>01/21/2015 12:00:00 PM</td>\n",
       "      <td>05 QUEENS</td>\n",
       "      <td>QUEENS</td>\n",
       "      <td>PHONE</td>\n",
       "      <td>QUEENS</td>\n",
       "    </tr>\n",
       "    <tr>\n",
       "      <th>3</th>\n",
       "      <td>01/22/2015 09:21:00 AM</td>\n",
       "      <td>01/31/2015 12:00:00 PM</td>\n",
       "      <td>A - Canine Task Force Citywide</td>\n",
       "      <td>Dirty Conditions</td>\n",
       "      <td>E8 Canine Violation</td>\n",
       "      <td>Sidewalk</td>\n",
       "      <td>NaN</td>\n",
       "      <td>QUEENS BOULEVARD</td>\n",
       "      <td>QUEENS BOULEVARD</td>\n",
       "      <td>83 STREET</td>\n",
       "      <td>VAN WYCK EXPRESSWAY</td>\n",
       "      <td>BLOCKFACE</td>\n",
       "      <td>NaN</td>\n",
       "      <td>Closed</td>\n",
       "      <td>The Department of Sanitation investigated this...</td>\n",
       "      <td>01/31/2015 12:00:00 PM</td>\n",
       "      <td>09 QUEENS</td>\n",
       "      <td>QUEENS</td>\n",
       "      <td>ONLINE</td>\n",
       "      <td>QUEENS</td>\n",
       "    </tr>\n",
       "    <tr>\n",
       "      <th>4</th>\n",
       "      <td>01/02/2015 06:11:00 AM</td>\n",
       "      <td>01/05/2015 12:00:00 PM</td>\n",
       "      <td>Bronx 10</td>\n",
       "      <td>Sanitation Condition</td>\n",
       "      <td>12 Dead Animals</td>\n",
       "      <td>Sidewalk</td>\n",
       "      <td>NaN</td>\n",
       "      <td>HUTCHISON RIVER PKW</td>\n",
       "      <td>HUTCHISON RIVER PKW</td>\n",
       "      <td>EAST TREMONT AVENUE</td>\n",
       "      <td>NaN</td>\n",
       "      <td>NaN</td>\n",
       "      <td>NaN</td>\n",
       "      <td>Closed</td>\n",
       "      <td>The Department of Sanitation investigated this...</td>\n",
       "      <td>01/05/2015 12:00:00 PM</td>\n",
       "      <td>10 BRONX</td>\n",
       "      <td>BRONX</td>\n",
       "      <td>PHONE</td>\n",
       "      <td>BRONX</td>\n",
       "    </tr>\n",
       "  </tbody>\n",
       "</table>\n",
       "</div>"
      ],
      "text/plain": [
       "             Created Date             Closed Date  \\\n",
       "0  01/07/2015 06:50:12 PM                     NaN   \n",
       "1  01/07/2015 08:17:00 AM  01/07/2015 12:00:00 PM   \n",
       "2  01/19/2015 05:00:00 PM  01/21/2015 12:00:00 PM   \n",
       "3  01/22/2015 09:21:00 AM  01/31/2015 12:00:00 PM   \n",
       "4  01/02/2015 06:11:00 AM  01/05/2015 12:00:00 PM   \n",
       "\n",
       "                      Agency Name           Complaint Type  \\\n",
       "0        Department of Sanitation                 Graffiti   \n",
       "1               BCC - Queens East                     Snow   \n",
       "2               BCC - Queens West  Litter Basket / Request   \n",
       "3  A - Canine Task Force Citywide         Dirty Conditions   \n",
       "4                        Bronx 10     Sanitation Condition   \n",
       "\n",
       "                          Descriptor Location Type  Incident Zip  \\\n",
       "0                           Graffiti           NaN           NaN   \n",
       "1  15S Re-Plow/Spread/Ice-Snow Cond.        Street           NaN   \n",
       "2         10 Litter Basket / Request      Sidewalk           NaN   \n",
       "3                E8 Canine Violation      Sidewalk           NaN   \n",
       "4                    12 Dead Animals      Sidewalk           NaN   \n",
       "\n",
       "      Incident Address          Street Name       Cross Street 1  \\\n",
       "0             10 s4 st                s4 st                  NaN   \n",
       "1                  NaN                  NaN                  NaN   \n",
       "2                  NaN                  NaN                  NaN   \n",
       "3     QUEENS BOULEVARD     QUEENS BOULEVARD            83 STREET   \n",
       "4  HUTCHISON RIVER PKW  HUTCHISON RIVER PKW  EAST TREMONT AVENUE   \n",
       "\n",
       "        Cross Street 2  Address Type City  Status  \\\n",
       "0                  NaN       ADDRESS  NaN    Open   \n",
       "1                  NaN  INTERSECTION  NaN  Closed   \n",
       "2                  NaN  INTERSECTION  NaN  Closed   \n",
       "3  VAN WYCK EXPRESSWAY     BLOCKFACE  NaN  Closed   \n",
       "4                  NaN           NaN  NaN  Closed   \n",
       "\n",
       "                              Resolution Description  \\\n",
       "0                                                NaN   \n",
       "1  The Department of Sanitation investigated this...   \n",
       "2  The Department of Sanitation investigated this...   \n",
       "3  The Department of Sanitation investigated this...   \n",
       "4  The Department of Sanitation investigated this...   \n",
       "\n",
       "  Resolution Action Updated Date       Community Board   Borough  \\\n",
       "0         01/07/2015 06:50:12 PM  Unspecified BROOKLYN  BROOKLYN   \n",
       "1         01/07/2015 12:00:00 PM             13 QUEENS    QUEENS   \n",
       "2         01/21/2015 12:00:00 PM             05 QUEENS    QUEENS   \n",
       "3         01/31/2015 12:00:00 PM             09 QUEENS    QUEENS   \n",
       "4         01/05/2015 12:00:00 PM              10 BRONX     BRONX   \n",
       "\n",
       "  Open Data Channel Type Park Borough  \n",
       "0                  OTHER     BROOKLYN  \n",
       "1                  PHONE       QUEENS  \n",
       "2                  PHONE       QUEENS  \n",
       "3                 ONLINE       QUEENS  \n",
       "4                  PHONE        BRONX  "
      ]
     },
     "execution_count": 33,
     "metadata": {},
     "output_type": "execute_result"
    }
   ],
   "source": [
    "df_c1.head()"
   ]
  },
  {
   "cell_type": "markdown",
   "metadata": {},
   "source": [
    "## Deriving the Target Variable\n",
    "\n",
    "Considering the objective of estimating the time it takes to resolving a 311 call, we first derive the target variable from created date and closed date"
   ]
  },
  {
   "cell_type": "code",
   "execution_count": 34,
   "metadata": {
    "execution": {
     "iopub.execute_input": "2021-10-13T23:52:40.08839Z",
     "iopub.status.busy": "2021-10-13T23:52:40.08794Z",
     "iopub.status.idle": "2021-10-13T23:52:40.114177Z",
     "shell.execute_reply": "2021-10-13T23:52:40.113312Z",
     "shell.execute_reply.started": "2021-10-13T23:52:40.088347Z"
    }
   },
   "outputs": [
    {
     "data": {
      "text/plain": [
       "Created Date    object\n",
       "Closed Date     object\n",
       "dtype: object"
      ]
     },
     "execution_count": 34,
     "metadata": {},
     "output_type": "execute_result"
    }
   ],
   "source": [
    "#Understanding the datatypes of the date fields\n",
    "df_c1[['Created Date','Closed Date']].dtypes"
   ]
  },
  {
   "cell_type": "code",
   "execution_count": 35,
   "metadata": {
    "execution": {
     "iopub.execute_input": "2021-10-13T23:52:40.115622Z",
     "iopub.status.busy": "2021-10-13T23:52:40.115361Z",
     "iopub.status.idle": "2021-10-13T23:52:40.180908Z",
     "shell.execute_reply": "2021-10-13T23:52:40.180027Z",
     "shell.execute_reply.started": "2021-10-13T23:52:40.115598Z"
    }
   },
   "outputs": [
    {
     "data": {
      "text/plain": [
       "Created Date    0.000000\n",
       "Closed Date     1.083285\n",
       "dtype: float64"
      ]
     },
     "execution_count": 35,
     "metadata": {},
     "output_type": "execute_result"
    }
   ],
   "source": [
    "#Computing missing value %\n",
    "df_c1[['Created Date','Closed Date']].isnull().sum()/len(df_c1) * 100"
   ]
  },
  {
   "cell_type": "code",
   "execution_count": 36,
   "metadata": {
    "execution": {
     "iopub.execute_input": "2021-10-13T23:52:40.184919Z",
     "iopub.status.busy": "2021-10-13T23:52:40.184636Z",
     "iopub.status.idle": "2021-10-13T23:53:37.776542Z",
     "shell.execute_reply": "2021-10-13T23:53:37.775688Z",
     "shell.execute_reply.started": "2021-10-13T23:52:40.18489Z"
    }
   },
   "outputs": [],
   "source": [
    "# Type casting the Created date field from obj to datetime\n",
    "df_c1['Created Date']= pd.to_datetime(df_c1['Created Date'])"
   ]
  },
  {
   "cell_type": "code",
   "execution_count": 37,
   "metadata": {
    "execution": {
     "iopub.execute_input": "2021-10-13T23:53:37.778674Z",
     "iopub.status.busy": "2021-10-13T23:53:37.778419Z",
     "iopub.status.idle": "2021-10-13T23:53:37.781384Z",
     "shell.execute_reply": "2021-10-13T23:53:37.780708Z",
     "shell.execute_reply.started": "2021-10-13T23:53:37.778648Z"
    }
   },
   "outputs": [],
   "source": [
    "#Type casting the Closed Date\n",
    "#Setting the errors parameter in pd.to_datetime to 'coerce' causes replacement of out of bounds values with NaT\n",
    "#df_c1['Closed Date'] = pd.to_datetime(df_c1['Closed Date'])"
   ]
  },
  {
   "cell_type": "markdown",
   "metadata": {},
   "source": [
    "## what is OutofBoundDatetime error"
   ]
  },
  {
   "cell_type": "markdown",
   "metadata": {},
   "source": [
    "Per pandas documentation, pandas represents timestamps in nanosecond resolution and the timespan that can be represented using a 64-bit integer is limited to approximately 584 years"
   ]
  },
  {
   "cell_type": "code",
   "execution_count": 38,
   "metadata": {
    "execution": {
     "iopub.execute_input": "2021-10-13T23:53:37.782354Z",
     "iopub.status.busy": "2021-10-13T23:53:37.782118Z",
     "iopub.status.idle": "2021-10-13T23:53:37.795226Z",
     "shell.execute_reply": "2021-10-13T23:53:37.794337Z",
     "shell.execute_reply.started": "2021-10-13T23:53:37.782331Z"
    }
   },
   "outputs": [
    {
     "name": "stdout",
     "output_type": "stream",
     "text": [
      "Min pandas date :  1677-09-21 00:12:43.145225\n",
      "Max pandas date :  2262-04-11 23:47:16.854775807\n"
     ]
    }
   ],
   "source": [
    "print(\"Min pandas date : \", pd.Timestamp.min)\n",
    "\n",
    "print(\"Max pandas date : \", pd.Timestamp.max)"
   ]
  },
  {
   "cell_type": "markdown",
   "metadata": {},
   "source": [
    "## Handling OutOfBoundsDatetime Error"
   ]
  },
  {
   "cell_type": "markdown",
   "metadata": {},
   "source": [
    "Setting the errors parameter in pd.to_datetime to 'coerce' causes replacement of out of bounds values with NaT\n"
   ]
  },
  {
   "cell_type": "code",
   "execution_count": 39,
   "metadata": {
    "execution": {
     "iopub.execute_input": "2021-10-13T23:53:37.796754Z",
     "iopub.status.busy": "2021-10-13T23:53:37.796426Z",
     "iopub.status.idle": "2021-10-13T23:53:40.532418Z",
     "shell.execute_reply": "2021-10-13T23:53:40.531586Z",
     "shell.execute_reply.started": "2021-10-13T23:53:37.796723Z"
    }
   },
   "outputs": [],
   "source": [
    "# TypeCasting closed date\n",
    "df_c1['Closed Date'] = pd.to_datetime(df_c1['Closed Date'], errors ='coerce')"
   ]
  },
  {
   "cell_type": "code",
   "execution_count": 40,
   "metadata": {
    "execution": {
     "iopub.execute_input": "2021-10-13T23:53:40.533803Z",
     "iopub.status.busy": "2021-10-13T23:53:40.53355Z",
     "iopub.status.idle": "2021-10-13T23:53:40.591299Z",
     "shell.execute_reply": "2021-10-13T23:53:40.590345Z",
     "shell.execute_reply.started": "2021-10-13T23:53:40.533778Z"
    }
   },
   "outputs": [
    {
     "data": {
      "text/html": [
       "<div>\n",
       "<style scoped>\n",
       "    .dataframe tbody tr th:only-of-type {\n",
       "        vertical-align: middle;\n",
       "    }\n",
       "\n",
       "    .dataframe tbody tr th {\n",
       "        vertical-align: top;\n",
       "    }\n",
       "\n",
       "    .dataframe thead th {\n",
       "        text-align: right;\n",
       "    }\n",
       "</style>\n",
       "<table border=\"1\" class=\"dataframe\">\n",
       "  <thead>\n",
       "    <tr style=\"text-align: right;\">\n",
       "      <th></th>\n",
       "      <th>Created Date</th>\n",
       "      <th>Closed Date</th>\n",
       "    </tr>\n",
       "  </thead>\n",
       "  <tbody>\n",
       "    <tr>\n",
       "      <th>count</th>\n",
       "      <td>576487</td>\n",
       "      <td>570241</td>\n",
       "    </tr>\n",
       "    <tr>\n",
       "      <th>mean</th>\n",
       "      <td>2016-09-13 11:06:34.389800192</td>\n",
       "      <td>2016-09-25 06:21:52.180769536</td>\n",
       "    </tr>\n",
       "    <tr>\n",
       "      <th>min</th>\n",
       "      <td>2015-01-01 01:57:00</td>\n",
       "      <td>1900-01-01 00:00:00</td>\n",
       "    </tr>\n",
       "    <tr>\n",
       "      <th>25%</th>\n",
       "      <td>2015-12-01 13:59:00</td>\n",
       "      <td>2015-12-10 12:00:00</td>\n",
       "    </tr>\n",
       "    <tr>\n",
       "      <th>50%</th>\n",
       "      <td>2016-10-17 13:29:00</td>\n",
       "      <td>2016-10-28 12:00:00</td>\n",
       "    </tr>\n",
       "    <tr>\n",
       "      <th>75%</th>\n",
       "      <td>2017-07-18 16:26:30</td>\n",
       "      <td>2017-07-26 12:00:00</td>\n",
       "    </tr>\n",
       "    <tr>\n",
       "      <th>max</th>\n",
       "      <td>2017-12-31 23:50:00</td>\n",
       "      <td>2201-12-05 00:00:00</td>\n",
       "    </tr>\n",
       "  </tbody>\n",
       "</table>\n",
       "</div>"
      ],
      "text/plain": [
       "                        Created Date                    Closed Date\n",
       "count                         576487                         570241\n",
       "mean   2016-09-13 11:06:34.389800192  2016-09-25 06:21:52.180769536\n",
       "min              2015-01-01 01:57:00            1900-01-01 00:00:00\n",
       "25%              2015-12-01 13:59:00            2015-12-10 12:00:00\n",
       "50%              2016-10-17 13:29:00            2016-10-28 12:00:00\n",
       "75%              2017-07-18 16:26:30            2017-07-26 12:00:00\n",
       "max              2017-12-31 23:50:00            2201-12-05 00:00:00"
      ]
     },
     "execution_count": 40,
     "metadata": {},
     "output_type": "execute_result"
    }
   ],
   "source": [
    "df_c1[['Created Date', 'Closed Date']].describe(datetime_is_numeric=True)"
   ]
  },
  {
   "cell_type": "markdown",
   "metadata": {},
   "source": [
    "We can clearly depict that, closed date column has a lot of outliers"
   ]
  },
  {
   "cell_type": "code",
   "execution_count": 41,
   "metadata": {
    "execution": {
     "iopub.execute_input": "2021-10-13T23:53:40.592651Z",
     "iopub.status.busy": "2021-10-13T23:53:40.592397Z",
     "iopub.status.idle": "2021-10-13T23:53:40.859739Z",
     "shell.execute_reply": "2021-10-13T23:53:40.858783Z",
     "shell.execute_reply.started": "2021-10-13T23:53:40.592625Z"
    }
   },
   "outputs": [
    {
     "data": {
      "text/plain": [
       "<AxesSubplot:title={'center':'Year wise Case Counts'}, ylabel='Closed Date Year'>"
      ]
     },
     "execution_count": 41,
     "metadata": {},
     "output_type": "execute_result"
    },
    {
     "data": {
      "image/png": "[encoded data removed]",
      "text/plain": [
       "<Figure size 432x288 with 1 Axes>"
      ]
     },
     "metadata": {
      "needs_background": "light"
     },
     "output_type": "display_data"
    }
   ],
   "source": [
    "#Extracting Year from Date\n",
    "\n",
    "df_c1['Closed_date_year'] = pd.DatetimeIndex(df_c1['Closed Date']).year\n",
    "\n",
    "#Visualizing year wise volume counts\n",
    "df_c1['Closed_date_year'].value_counts().plot(kind='barh', title=\"Year wise Case Counts\", xlabel='Closed Date Year',\n",
    "ylabel='Counts')"
   ]
  },
  {
   "cell_type": "code",
   "execution_count": 42,
   "metadata": {
    "execution": {
     "iopub.execute_input": "2021-10-13T23:53:40.8609Z",
     "iopub.status.busy": "2021-10-13T23:53:40.860651Z",
     "iopub.status.idle": "2021-10-13T23:53:40.880846Z",
     "shell.execute_reply": "2021-10-13T23:53:40.879827Z",
     "shell.execute_reply.started": "2021-10-13T23:53:40.860874Z"
    }
   },
   "outputs": [
    {
     "data": {
      "text/html": [
       "<div>\n",
       "<style scoped>\n",
       "    .dataframe tbody tr th:only-of-type {\n",
       "        vertical-align: middle;\n",
       "    }\n",
       "\n",
       "    .dataframe tbody tr th {\n",
       "        vertical-align: top;\n",
       "    }\n",
       "\n",
       "    .dataframe thead th {\n",
       "        text-align: right;\n",
       "    }\n",
       "</style>\n",
       "<table border=\"1\" class=\"dataframe\">\n",
       "  <thead>\n",
       "    <tr style=\"text-align: right;\">\n",
       "      <th></th>\n",
       "      <th>Closed_date_year</th>\n",
       "    </tr>\n",
       "  </thead>\n",
       "  <tbody>\n",
       "    <tr>\n",
       "      <th>2017.0</th>\n",
       "      <td>250487</td>\n",
       "    </tr>\n",
       "    <tr>\n",
       "      <th>2016.0</th>\n",
       "      <td>163966</td>\n",
       "    </tr>\n",
       "    <tr>\n",
       "      <th>2015.0</th>\n",
       "      <td>149555</td>\n",
       "    </tr>\n",
       "    <tr>\n",
       "      <th>2018.0</th>\n",
       "      <td>5433</td>\n",
       "    </tr>\n",
       "    <tr>\n",
       "      <th>2019.0</th>\n",
       "      <td>777</td>\n",
       "    </tr>\n",
       "  </tbody>\n",
       "</table>\n",
       "</div>"
      ],
      "text/plain": [
       "        Closed_date_year\n",
       "2017.0            250487\n",
       "2016.0            163966\n",
       "2015.0            149555\n",
       "2018.0              5433\n",
       "2019.0               777"
      ]
     },
     "execution_count": 42,
     "metadata": {},
     "output_type": "execute_result"
    }
   ],
   "source": [
    "#Volume Counts\n",
    "volumes =pd.DataFrame(df_c1['Closed_date_year'].value_counts())\n",
    "volumes.head()"
   ]
  },
  {
   "cell_type": "code",
   "execution_count": 43,
   "metadata": {
    "execution": {
     "iopub.execute_input": "2021-10-13T23:53:40.882187Z",
     "iopub.status.busy": "2021-10-13T23:53:40.881935Z",
     "iopub.status.idle": "2021-10-13T23:53:41.013489Z",
     "shell.execute_reply": "2021-10-13T23:53:41.012437Z",
     "shell.execute_reply.started": "2021-10-13T23:53:40.882162Z"
    }
   },
   "outputs": [
    {
     "data": {
      "image/png": "[encoded data removed]",
      "text/plain": [
       "<Figure size 432x288 with 1 Axes>"
      ]
     },
     "metadata": {},
     "output_type": "display_data"
    }
   ],
   "source": [
    "sns.set_theme(style='whitegrid')\n",
    "ax=sns.boxplot(y=df_c1[\"Closed_date_year\"])"
   ]
  },
  {
   "cell_type": "code",
   "execution_count": 44,
   "metadata": {
    "execution": {
     "iopub.execute_input": "2021-10-13T23:53:41.015076Z",
     "iopub.status.busy": "2021-10-13T23:53:41.014758Z",
     "iopub.status.idle": "2021-10-13T23:53:41.019182Z",
     "shell.execute_reply": "2021-10-13T23:53:41.0181Z",
     "shell.execute_reply.started": "2021-10-13T23:53:41.015046Z"
    }
   },
   "outputs": [],
   "source": [
    "#df_c1.head()"
   ]
  },
  {
   "cell_type": "markdown",
   "metadata": {},
   "source": [
    "Per the records the data is recorded for calls between 01/2015 to 12/2017. But as per the data few cases are closed even in the past and future dates. This could be due to human errors or any other reasons. We consider them as outliers"
   ]
  },
  {
   "cell_type": "markdown",
   "metadata": {},
   "source": [
    "## Treating the Outliers"
   ]
  },
  {
   "cell_type": "code",
   "execution_count": 45,
   "metadata": {
    "execution": {
     "iopub.execute_input": "2021-10-13T23:53:41.020954Z",
     "iopub.status.busy": "2021-10-13T23:53:41.020579Z",
     "iopub.status.idle": "2021-10-13T23:53:41.041722Z",
     "shell.execute_reply": "2021-10-13T23:53:41.040727Z",
     "shell.execute_reply.started": "2021-10-13T23:53:41.020915Z"
    }
   },
   "outputs": [],
   "source": [
    "#filtering outlier dataset\n",
    "df_o = df_c1[(df_c1['Closed_date_year']>2020) | (df_c1['Closed_date_year']<2015)]"
   ]
  },
  {
   "cell_type": "code",
   "execution_count": 46,
   "metadata": {
    "execution": {
     "iopub.execute_input": "2021-10-13T23:53:41.043586Z",
     "iopub.status.busy": "2021-10-13T23:53:41.043165Z",
     "iopub.status.idle": "2021-10-13T23:53:41.059336Z",
     "shell.execute_reply": "2021-10-13T23:53:41.058313Z",
     "shell.execute_reply.started": "2021-10-13T23:53:41.043544Z"
    }
   },
   "outputs": [
    {
     "data": {
      "text/html": [
       "<div>\n",
       "<style scoped>\n",
       "    .dataframe tbody tr th:only-of-type {\n",
       "        vertical-align: middle;\n",
       "    }\n",
       "\n",
       "    .dataframe tbody tr th {\n",
       "        vertical-align: top;\n",
       "    }\n",
       "\n",
       "    .dataframe thead th {\n",
       "        text-align: right;\n",
       "    }\n",
       "</style>\n",
       "<table border=\"1\" class=\"dataframe\">\n",
       "  <thead>\n",
       "    <tr style=\"text-align: right;\">\n",
       "      <th></th>\n",
       "      <th>Closed_date_year</th>\n",
       "      <th>Created Date</th>\n",
       "      <th>Closed Date</th>\n",
       "    </tr>\n",
       "  </thead>\n",
       "  <tbody>\n",
       "    <tr>\n",
       "      <th>6155</th>\n",
       "      <td>2014.0</td>\n",
       "      <td>2015-06-22 19:57:11</td>\n",
       "      <td>2014-08-27</td>\n",
       "    </tr>\n",
       "    <tr>\n",
       "      <th>7553</th>\n",
       "      <td>2013.0</td>\n",
       "      <td>2015-10-07 15:26:34</td>\n",
       "      <td>2013-10-22</td>\n",
       "    </tr>\n",
       "    <tr>\n",
       "      <th>7613</th>\n",
       "      <td>2013.0</td>\n",
       "      <td>2015-10-08 11:15:47</td>\n",
       "      <td>2013-10-22</td>\n",
       "    </tr>\n",
       "    <tr>\n",
       "      <th>126944</th>\n",
       "      <td>2013.0</td>\n",
       "      <td>2015-02-26 18:50:06</td>\n",
       "      <td>2013-05-20</td>\n",
       "    </tr>\n",
       "    <tr>\n",
       "      <th>127412</th>\n",
       "      <td>2013.0</td>\n",
       "      <td>2015-02-27 13:50:09</td>\n",
       "      <td>2013-05-20</td>\n",
       "    </tr>\n",
       "  </tbody>\n",
       "</table>\n",
       "</div>"
      ],
      "text/plain": [
       "        Closed_date_year        Created Date Closed Date\n",
       "6155              2014.0 2015-06-22 19:57:11  2014-08-27\n",
       "7553              2013.0 2015-10-07 15:26:34  2013-10-22\n",
       "7613              2013.0 2015-10-08 11:15:47  2013-10-22\n",
       "126944            2013.0 2015-02-26 18:50:06  2013-05-20\n",
       "127412            2013.0 2015-02-27 13:50:09  2013-05-20"
      ]
     },
     "execution_count": 46,
     "metadata": {},
     "output_type": "execute_result"
    }
   ],
   "source": [
    "df_o[['Closed_date_year','Created Date','Closed Date']].head()"
   ]
  },
  {
   "cell_type": "code",
   "execution_count": 47,
   "metadata": {
    "execution": {
     "iopub.execute_input": "2021-10-13T23:53:41.060476Z",
     "iopub.status.busy": "2021-10-13T23:53:41.060198Z",
     "iopub.status.idle": "2021-10-13T23:53:41.068361Z",
     "shell.execute_reply": "2021-10-13T23:53:41.06724Z",
     "shell.execute_reply.started": "2021-10-13T23:53:41.06045Z"
    }
   },
   "outputs": [
    {
     "data": {
      "text/plain": [
       "array([2014., 2013., 1900., 2100., 2047., 2201.])"
      ]
     },
     "execution_count": 47,
     "metadata": {},
     "output_type": "execute_result"
    }
   ],
   "source": [
    "df_o['Closed_date_year'].unique()"
   ]
  },
  {
   "cell_type": "code",
   "execution_count": 48,
   "metadata": {
    "execution": {
     "iopub.execute_input": "2021-10-13T23:53:41.070461Z",
     "iopub.status.busy": "2021-10-13T23:53:41.070041Z",
     "iopub.status.idle": "2021-10-13T23:53:41.222369Z",
     "shell.execute_reply": "2021-10-13T23:53:41.221078Z",
     "shell.execute_reply.started": "2021-10-13T23:53:41.070413Z"
    }
   },
   "outputs": [
    {
     "name": "stdout",
     "output_type": "stream",
     "text": [
      "(576467, 21)\n"
     ]
    }
   ],
   "source": [
    "#removing out of bound data set\n",
    "\n",
    "df_c1 = df_c1.drop(df_o.index)\n",
    "print(df_c1.shape)"
   ]
  },
  {
   "cell_type": "code",
   "execution_count": 49,
   "metadata": {
    "execution": {
     "iopub.execute_input": "2021-10-13T23:53:41.224261Z",
     "iopub.status.busy": "2021-10-13T23:53:41.223839Z",
     "iopub.status.idle": "2021-10-13T23:53:41.254884Z",
     "shell.execute_reply": "2021-10-13T23:53:41.253821Z",
     "shell.execute_reply.started": "2021-10-13T23:53:41.224226Z"
    }
   },
   "outputs": [
    {
     "data": {
      "text/plain": [
       "(38477, 21)"
      ]
     },
     "execution_count": 49,
     "metadata": {},
     "output_type": "execute_result"
    }
   ],
   "source": [
    "#Checking for records with same closed and created dates\n",
    "df_s = df_c1[df_c1['Closed Date']==df_c1['Created Date']]\n",
    "df_s.shape"
   ]
  },
  {
   "cell_type": "code",
   "execution_count": 50,
   "metadata": {
    "execution": {
     "iopub.execute_input": "2021-10-13T23:53:41.256317Z",
     "iopub.status.busy": "2021-10-13T23:53:41.256025Z",
     "iopub.status.idle": "2021-10-13T23:53:41.268883Z",
     "shell.execute_reply": "2021-10-13T23:53:41.267838Z",
     "shell.execute_reply.started": "2021-10-13T23:53:41.256286Z"
    }
   },
   "outputs": [
    {
     "data": {
      "text/html": [
       "<div>\n",
       "<style scoped>\n",
       "    .dataframe tbody tr th:only-of-type {\n",
       "        vertical-align: middle;\n",
       "    }\n",
       "\n",
       "    .dataframe tbody tr th {\n",
       "        vertical-align: top;\n",
       "    }\n",
       "\n",
       "    .dataframe thead th {\n",
       "        text-align: right;\n",
       "    }\n",
       "</style>\n",
       "<table border=\"1\" class=\"dataframe\">\n",
       "  <thead>\n",
       "    <tr style=\"text-align: right;\">\n",
       "      <th></th>\n",
       "      <th>Created Date</th>\n",
       "      <th>Closed Date</th>\n",
       "    </tr>\n",
       "  </thead>\n",
       "  <tbody>\n",
       "    <tr>\n",
       "      <th>10</th>\n",
       "      <td>2015-01-02 12:12:00</td>\n",
       "      <td>2015-01-02 12:12:00</td>\n",
       "    </tr>\n",
       "    <tr>\n",
       "      <th>20</th>\n",
       "      <td>2015-01-05 16:21:00</td>\n",
       "      <td>2015-01-05 16:21:00</td>\n",
       "    </tr>\n",
       "    <tr>\n",
       "      <th>54</th>\n",
       "      <td>2015-01-14 14:33:00</td>\n",
       "      <td>2015-01-14 14:33:00</td>\n",
       "    </tr>\n",
       "    <tr>\n",
       "      <th>77</th>\n",
       "      <td>2015-01-28 18:16:00</td>\n",
       "      <td>2015-01-28 18:16:00</td>\n",
       "    </tr>\n",
       "    <tr>\n",
       "      <th>91</th>\n",
       "      <td>2015-01-23 15:23:00</td>\n",
       "      <td>2015-01-23 15:23:00</td>\n",
       "    </tr>\n",
       "  </tbody>\n",
       "</table>\n",
       "</div>"
      ],
      "text/plain": [
       "          Created Date         Closed Date\n",
       "10 2015-01-02 12:12:00 2015-01-02 12:12:00\n",
       "20 2015-01-05 16:21:00 2015-01-05 16:21:00\n",
       "54 2015-01-14 14:33:00 2015-01-14 14:33:00\n",
       "77 2015-01-28 18:16:00 2015-01-28 18:16:00\n",
       "91 2015-01-23 15:23:00 2015-01-23 15:23:00"
      ]
     },
     "execution_count": 50,
     "metadata": {},
     "output_type": "execute_result"
    }
   ],
   "source": [
    "df_s[['Created Date', 'Closed Date']].head()"
   ]
  },
  {
   "cell_type": "code",
   "execution_count": 51,
   "metadata": {
    "execution": {
     "iopub.execute_input": "2021-10-13T23:53:41.271291Z",
     "iopub.status.busy": "2021-10-13T23:53:41.270845Z",
     "iopub.status.idle": "2021-10-13T23:53:41.399364Z",
     "shell.execute_reply": "2021-10-13T23:53:41.398229Z",
     "shell.execute_reply.started": "2021-10-13T23:53:41.271248Z"
    }
   },
   "outputs": [
    {
     "data": {
      "image/png": "[encoded data removed]",
      "text/plain": [
       "<Figure size 432x288 with 1 Axes>"
      ]
     },
     "metadata": {},
     "output_type": "display_data"
    }
   ],
   "source": [
    "#Box plot after removing Outliers\n",
    "sns.set_theme(style='whitegrid')\n",
    "ax = sns.boxplot(y=df_c1['Closed_date_year'])"
   ]
  },
  {
   "cell_type": "markdown",
   "metadata": {},
   "source": [
    "## Deriving the Target/Independent Variable"
   ]
  },
  {
   "cell_type": "code",
   "execution_count": 52,
   "metadata": {
    "execution": {
     "iopub.execute_input": "2021-10-13T23:53:41.402367Z",
     "iopub.status.busy": "2021-10-13T23:53:41.402066Z",
     "iopub.status.idle": "2021-10-13T23:53:41.531017Z",
     "shell.execute_reply": "2021-10-13T23:53:41.529972Z",
     "shell.execute_reply.started": "2021-10-13T23:53:41.402339Z"
    }
   },
   "outputs": [],
   "source": [
    "#Dropping columns with no closed dates\n",
    "\n",
    "df_c1=df_c1[df_c1['Closed Date'].notnull()]"
   ]
  },
  {
   "cell_type": "code",
   "execution_count": 53,
   "metadata": {
    "execution": {
     "iopub.execute_input": "2021-10-13T23:53:41.532635Z",
     "iopub.status.busy": "2021-10-13T23:53:41.532245Z",
     "iopub.status.idle": "2021-10-13T23:53:41.581358Z",
     "shell.execute_reply": "2021-10-13T23:53:41.580497Z",
     "shell.execute_reply.started": "2021-10-13T23:53:41.532595Z"
    }
   },
   "outputs": [],
   "source": [
    "#Computing the delta\n",
    "df_c1['Est_time'] = df_c1['Closed Date']- df_c1['Created Date']\n",
    "\n",
    "#Computing the delta in seconds\n",
    "df_c1['Est_time_sec'] = (df_c1['Closed Date'] - df_c1['Created Date']).dt.total_seconds() \n",
    "\n",
    "#Computing the delta in minutes\n",
    "df_c1['Est_time_minutes'] = (df_c1['Closed Date'] -df_c1['Created Date'])/pd.Timedelta(minutes=1)\n",
    "\n",
    "#Computing the delta in hours\n",
    "df_c1['Est_time_Hours'] = (df_c1['Closed Date']- df_c1['Created Date'])/pd.Timedelta(hours=1)\n",
    "\n",
    "#Computing the delta in days\n",
    "df_c1['Est_time_Days'] = (df_c1['Closed Date']-df_c1['Created Date'])/pd.Timedelta(days=1)"
   ]
  },
  {
   "cell_type": "code",
   "execution_count": 54,
   "metadata": {
    "execution": {
     "iopub.execute_input": "2021-10-13T23:53:41.583187Z",
     "iopub.status.busy": "2021-10-13T23:53:41.582779Z",
     "iopub.status.idle": "2021-10-13T23:53:41.623538Z",
     "shell.execute_reply": "2021-10-13T23:53:41.622523Z",
     "shell.execute_reply.started": "2021-10-13T23:53:41.583137Z"
    }
   },
   "outputs": [
    {
     "data": {
      "text/html": [
       "<div>\n",
       "<style scoped>\n",
       "    .dataframe tbody tr th:only-of-type {\n",
       "        vertical-align: middle;\n",
       "    }\n",
       "\n",
       "    .dataframe tbody tr th {\n",
       "        vertical-align: top;\n",
       "    }\n",
       "\n",
       "    .dataframe thead th {\n",
       "        text-align: right;\n",
       "    }\n",
       "</style>\n",
       "<table border=\"1\" class=\"dataframe\">\n",
       "  <thead>\n",
       "    <tr style=\"text-align: right;\">\n",
       "      <th></th>\n",
       "      <th>Created Date</th>\n",
       "      <th>Closed Date</th>\n",
       "      <th>Est_time</th>\n",
       "      <th>Est_time_minutes</th>\n",
       "      <th>Est_time_Hours</th>\n",
       "      <th>Est_time_Days</th>\n",
       "    </tr>\n",
       "  </thead>\n",
       "  <tbody>\n",
       "    <tr>\n",
       "      <th>1</th>\n",
       "      <td>2015-01-07 08:17:00</td>\n",
       "      <td>2015-01-07 12:00:00</td>\n",
       "      <td>0 days 03:43:00</td>\n",
       "      <td>223.0</td>\n",
       "      <td>3.716667</td>\n",
       "      <td>0.154861</td>\n",
       "    </tr>\n",
       "    <tr>\n",
       "      <th>2</th>\n",
       "      <td>2015-01-19 17:00:00</td>\n",
       "      <td>2015-01-21 12:00:00</td>\n",
       "      <td>1 days 19:00:00</td>\n",
       "      <td>2580.0</td>\n",
       "      <td>43.000000</td>\n",
       "      <td>1.791667</td>\n",
       "    </tr>\n",
       "    <tr>\n",
       "      <th>3</th>\n",
       "      <td>2015-01-22 09:21:00</td>\n",
       "      <td>2015-01-31 12:00:00</td>\n",
       "      <td>9 days 02:39:00</td>\n",
       "      <td>13119.0</td>\n",
       "      <td>218.650000</td>\n",
       "      <td>9.110417</td>\n",
       "    </tr>\n",
       "    <tr>\n",
       "      <th>4</th>\n",
       "      <td>2015-01-02 06:11:00</td>\n",
       "      <td>2015-01-05 12:00:00</td>\n",
       "      <td>3 days 05:49:00</td>\n",
       "      <td>4669.0</td>\n",
       "      <td>77.816667</td>\n",
       "      <td>3.242361</td>\n",
       "    </tr>\n",
       "    <tr>\n",
       "      <th>5</th>\n",
       "      <td>2015-01-02 09:57:00</td>\n",
       "      <td>2015-01-05 12:00:00</td>\n",
       "      <td>3 days 02:03:00</td>\n",
       "      <td>4443.0</td>\n",
       "      <td>74.050000</td>\n",
       "      <td>3.085417</td>\n",
       "    </tr>\n",
       "  </tbody>\n",
       "</table>\n",
       "</div>"
      ],
      "text/plain": [
       "         Created Date         Closed Date        Est_time  Est_time_minutes  \\\n",
       "1 2015-01-07 08:17:00 2015-01-07 12:00:00 0 days 03:43:00             223.0   \n",
       "2 2015-01-19 17:00:00 2015-01-21 12:00:00 1 days 19:00:00            2580.0   \n",
       "3 2015-01-22 09:21:00 2015-01-31 12:00:00 9 days 02:39:00           13119.0   \n",
       "4 2015-01-02 06:11:00 2015-01-05 12:00:00 3 days 05:49:00            4669.0   \n",
       "5 2015-01-02 09:57:00 2015-01-05 12:00:00 3 days 02:03:00            4443.0   \n",
       "\n",
       "   Est_time_Hours  Est_time_Days  \n",
       "1        3.716667       0.154861  \n",
       "2       43.000000       1.791667  \n",
       "3      218.650000       9.110417  \n",
       "4       77.816667       3.242361  \n",
       "5       74.050000       3.085417  "
      ]
     },
     "execution_count": 54,
     "metadata": {},
     "output_type": "execute_result"
    }
   ],
   "source": [
    "df_c1[['Created Date','Closed Date','Est_time','Est_time_minutes','Est_time_Hours','Est_time_Days']].head()"
   ]
  },
  {
   "cell_type": "code",
   "execution_count": 55,
   "metadata": {
    "execution": {
     "iopub.execute_input": "2021-10-13T23:53:41.624895Z",
     "iopub.status.busy": "2021-10-13T23:53:41.62465Z",
     "iopub.status.idle": "2021-10-13T23:53:41.771115Z",
     "shell.execute_reply": "2021-10-13T23:53:41.770239Z",
     "shell.execute_reply.started": "2021-10-13T23:53:41.62487Z"
    }
   },
   "outputs": [
    {
     "data": {
      "text/html": [
       "<div>\n",
       "<style scoped>\n",
       "    .dataframe tbody tr th:only-of-type {\n",
       "        vertical-align: middle;\n",
       "    }\n",
       "\n",
       "    .dataframe tbody tr th {\n",
       "        vertical-align: top;\n",
       "    }\n",
       "\n",
       "    .dataframe thead th {\n",
       "        text-align: right;\n",
       "    }\n",
       "</style>\n",
       "<table border=\"1\" class=\"dataframe\">\n",
       "  <thead>\n",
       "    <tr style=\"text-align: right;\">\n",
       "      <th></th>\n",
       "      <th>Est_time</th>\n",
       "      <th>Est_time_sec</th>\n",
       "      <th>Est_time_minutes</th>\n",
       "      <th>Est_time_Hours</th>\n",
       "      <th>Est_time_Days</th>\n",
       "    </tr>\n",
       "  </thead>\n",
       "  <tbody>\n",
       "    <tr>\n",
       "      <th>count</th>\n",
       "      <td>570221</td>\n",
       "      <td>570221.00</td>\n",
       "      <td>570221.00</td>\n",
       "      <td>570221.00</td>\n",
       "      <td>570221.00</td>\n",
       "    </tr>\n",
       "    <tr>\n",
       "      <th>mean</th>\n",
       "      <td>10 days 06:38:12.705752675</td>\n",
       "      <td>887892.71</td>\n",
       "      <td>14798.21</td>\n",
       "      <td>246.64</td>\n",
       "      <td>10.28</td>\n",
       "    </tr>\n",
       "    <tr>\n",
       "      <th>std</th>\n",
       "      <td>37 days 22:49:50.585725881</td>\n",
       "      <td>3278990.59</td>\n",
       "      <td>54649.84</td>\n",
       "      <td>910.83</td>\n",
       "      <td>37.95</td>\n",
       "    </tr>\n",
       "    <tr>\n",
       "      <th>min</th>\n",
       "      <td>-322 days +12:45:55</td>\n",
       "      <td>-27774845.00</td>\n",
       "      <td>-462914.08</td>\n",
       "      <td>-7715.23</td>\n",
       "      <td>-321.47</td>\n",
       "    </tr>\n",
       "    <tr>\n",
       "      <th>25%</th>\n",
       "      <td>0 days 22:33:00</td>\n",
       "      <td>81180.00</td>\n",
       "      <td>1353.00</td>\n",
       "      <td>22.55</td>\n",
       "      <td>0.94</td>\n",
       "    </tr>\n",
       "    <tr>\n",
       "      <th>50%</th>\n",
       "      <td>1 days 17:49:00</td>\n",
       "      <td>150540.00</td>\n",
       "      <td>2509.00</td>\n",
       "      <td>41.82</td>\n",
       "      <td>1.74</td>\n",
       "    </tr>\n",
       "    <tr>\n",
       "      <th>75%</th>\n",
       "      <td>3 days 21:35:00</td>\n",
       "      <td>336900.00</td>\n",
       "      <td>5615.00</td>\n",
       "      <td>93.58</td>\n",
       "      <td>3.90</td>\n",
       "    </tr>\n",
       "    <tr>\n",
       "      <th>max</th>\n",
       "      <td>1547 days 00:00:00</td>\n",
       "      <td>133660800.00</td>\n",
       "      <td>2227680.00</td>\n",
       "      <td>37128.00</td>\n",
       "      <td>1547.00</td>\n",
       "    </tr>\n",
       "  </tbody>\n",
       "</table>\n",
       "</div>"
      ],
      "text/plain": [
       "                         Est_time  Est_time_sec  Est_time_minutes  \\\n",
       "count                      570221     570221.00         570221.00   \n",
       "mean   10 days 06:38:12.705752675     887892.71          14798.21   \n",
       "std    37 days 22:49:50.585725881    3278990.59          54649.84   \n",
       "min           -322 days +12:45:55  -27774845.00        -462914.08   \n",
       "25%               0 days 22:33:00      81180.00           1353.00   \n",
       "50%               1 days 17:49:00     150540.00           2509.00   \n",
       "75%               3 days 21:35:00     336900.00           5615.00   \n",
       "max            1547 days 00:00:00  133660800.00        2227680.00   \n",
       "\n",
       "       Est_time_Hours  Est_time_Days  \n",
       "count       570221.00      570221.00  \n",
       "mean           246.64          10.28  \n",
       "std            910.83          37.95  \n",
       "min          -7715.23        -321.47  \n",
       "25%             22.55           0.94  \n",
       "50%             41.82           1.74  \n",
       "75%             93.58           3.90  \n",
       "max          37128.00        1547.00  "
      ]
     },
     "execution_count": 55,
     "metadata": {},
     "output_type": "execute_result"
    }
   ],
   "source": [
    "# Formatting numbers with setting decimal point up to 2 digits\n",
    "pd.set_option('display.float_format','{:.2f}'.format)\n",
    "df_c1[['Est_time','Est_time_sec','Est_time_minutes','Est_time_Hours','Est_time_Days']].describe()"
   ]
  },
  {
   "cell_type": "code",
   "execution_count": 56,
   "metadata": {
    "execution": {
     "iopub.execute_input": "2021-10-13T23:53:41.774115Z",
     "iopub.status.busy": "2021-10-13T23:53:41.773855Z",
     "iopub.status.idle": "2021-10-13T23:53:42.16093Z",
     "shell.execute_reply": "2021-10-13T23:53:42.160027Z",
     "shell.execute_reply.started": "2021-10-13T23:53:41.774089Z"
    }
   },
   "outputs": [
    {
     "data": {
      "image/png": "[encoded data removed]",
      "text/plain": [
       "<Figure size 432x288 with 1 Axes>"
      ]
     },
     "metadata": {},
     "output_type": "display_data"
    }
   ],
   "source": [
    "#Box plot to understand distibution of target\n",
    "sns.set_theme(style='whitegrid')\n",
    "ax=sns.boxplot(y=df_c1['Est_time_Days'])"
   ]
  },
  {
   "cell_type": "code",
   "execution_count": 57,
   "metadata": {
    "execution": {
     "iopub.execute_input": "2021-10-13T23:53:42.162653Z",
     "iopub.status.busy": "2021-10-13T23:53:42.162276Z",
     "iopub.status.idle": "2021-10-13T23:53:44.925103Z",
     "shell.execute_reply": "2021-10-13T23:53:44.924106Z",
     "shell.execute_reply.started": "2021-10-13T23:53:42.162611Z"
    }
   },
   "outputs": [
    {
     "name": "stderr",
     "output_type": "stream",
     "text": [
      "/opt/anaconda3/lib/python3.8/site-packages/seaborn/distributions.py:2551: FutureWarning: `distplot` is a deprecated function and will be removed in a future version. Please adapt your code to use either `displot` (a figure-level function with similar flexibility) or `histplot` (an axes-level function for histograms).\n",
      "  warnings.warn(msg, FutureWarning)\n"
     ]
    },
    {
     "data": {
      "image/png": "[encoded data removed]",
      "text/plain": [
       "<Figure size 432x288 with 1 Axes>"
      ]
     },
     "metadata": {},
     "output_type": "display_data"
    }
   ],
   "source": [
    "#dist Plot to understand distribution of target\n",
    "sns.set_theme(style='whitegrid')\n",
    "ax=sns.distplot(x=df_c1['Est_time_Days'])\n",
    "ax.ticklabel_format(useOffset=False, style='plain')"
   ]
  },
  {
   "cell_type": "code",
   "execution_count": 58,
   "metadata": {
    "execution": {
     "iopub.execute_input": "2021-10-13T23:53:44.926874Z",
     "iopub.status.busy": "2021-10-13T23:53:44.926495Z",
     "iopub.status.idle": "2021-10-13T23:53:45.336168Z",
     "shell.execute_reply": "2021-10-13T23:53:45.335025Z",
     "shell.execute_reply.started": "2021-10-13T23:53:44.926834Z"
    }
   },
   "outputs": [
    {
     "data": {
      "image/png": "[encoded data removed]",
      "text/plain": [
       "<Figure size 432x288 with 1 Axes>"
      ]
     },
     "metadata": {},
     "output_type": "display_data"
    }
   ],
   "source": [
    "#Box plot on subset of data\n",
    "sns.set_theme(style='whitegrid')\n",
    "ax =sns.boxplot(y=df_c1[df_c1['Est_time_Days']<20]['Est_time_Days'])"
   ]
  },
  {
   "cell_type": "code",
   "execution_count": 59,
   "metadata": {
    "execution": {
     "iopub.execute_input": "2021-10-13T23:53:45.338269Z",
     "iopub.status.busy": "2021-10-13T23:53:45.337849Z",
     "iopub.status.idle": "2021-10-13T23:53:47.784461Z",
     "shell.execute_reply": "2021-10-13T23:53:47.783808Z",
     "shell.execute_reply.started": "2021-10-13T23:53:45.338202Z"
    }
   },
   "outputs": [
    {
     "name": "stderr",
     "output_type": "stream",
     "text": [
      "/opt/anaconda3/lib/python3.8/site-packages/seaborn/distributions.py:2551: FutureWarning: `distplot` is a deprecated function and will be removed in a future version. Please adapt your code to use either `displot` (a figure-level function with similar flexibility) or `histplot` (an axes-level function for histograms).\n",
      "  warnings.warn(msg, FutureWarning)\n"
     ]
    },
    {
     "data": {
      "image/png": "[encoded data removed]",
      "text/plain": [
       "<Figure size 432x288 with 1 Axes>"
      ]
     },
     "metadata": {},
     "output_type": "display_data"
    }
   ],
   "source": [
    "#Distplot on subset of data\n",
    "ax = sns.distplot(x= df_c1[df_c1['Est_time_Days']<20]['Est_time_Days'])\n",
    "ax.ticklabel_format(useOffset=False,style='plain')"
   ]
  },
  {
   "cell_type": "code",
   "execution_count": 60,
   "metadata": {
    "execution": {
     "iopub.execute_input": "2021-10-13T23:53:47.785694Z",
     "iopub.status.busy": "2021-10-13T23:53:47.78535Z",
     "iopub.status.idle": "2021-10-13T23:53:50.265962Z",
     "shell.execute_reply": "2021-10-13T23:53:50.265026Z",
     "shell.execute_reply.started": "2021-10-13T23:53:47.785668Z"
    }
   },
   "outputs": [
    {
     "name": "stderr",
     "output_type": "stream",
     "text": [
      "/opt/anaconda3/lib/python3.8/site-packages/seaborn/distributions.py:2551: FutureWarning: `distplot` is a deprecated function and will be removed in a future version. Please adapt your code to use either `displot` (a figure-level function with similar flexibility) or `histplot` (an axes-level function for histograms).\n",
      "  warnings.warn(msg, FutureWarning)\n"
     ]
    },
    {
     "data": {
      "image/png": "[encoded data removed]",
      "text/plain": [
       "<Figure size 432x288 with 1 Axes>"
      ]
     },
     "metadata": {},
     "output_type": "display_data"
    }
   ],
   "source": [
    "#Distplot plot on subset of data\n",
    "ax=sns.distplot(x=df_c1[df_c1['Est_time_Days']<50]['Est_time_Days'])\n",
    "ax.ticklabel_format(useOffset=False,style='plain')"
   ]
  },
  {
   "cell_type": "code",
   "execution_count": 61,
   "metadata": {
    "execution": {
     "iopub.execute_input": "2021-10-13T23:53:50.26866Z",
     "iopub.status.busy": "2021-10-13T23:53:50.268279Z",
     "iopub.status.idle": "2021-10-13T23:53:50.278531Z",
     "shell.execute_reply": "2021-10-13T23:53:50.277144Z",
     "shell.execute_reply.started": "2021-10-13T23:53:50.268618Z"
    }
   },
   "outputs": [
    {
     "data": {
      "text/plain": [
       "Index(['Created Date', 'Closed Date', 'Agency Name', 'Complaint Type',\n",
       "       'Descriptor', 'Location Type', 'Incident Zip', 'Incident Address',\n",
       "       'Street Name', 'Cross Street 1', 'Cross Street 2', 'Address Type',\n",
       "       'City', 'Status', 'Resolution Description',\n",
       "       'Resolution Action Updated Date', 'Community Board', 'Borough',\n",
       "       'Open Data Channel Type', 'Park Borough', 'Closed_date_year',\n",
       "       'Est_time', 'Est_time_sec', 'Est_time_minutes', 'Est_time_Hours',\n",
       "       'Est_time_Days'],\n",
       "      dtype='object')"
      ]
     },
     "execution_count": 61,
     "metadata": {},
     "output_type": "execute_result"
    }
   ],
   "source": [
    "df_c1.columns"
   ]
  },
  {
   "cell_type": "code",
   "execution_count": 62,
   "metadata": {
    "execution": {
     "iopub.execute_input": "2021-10-13T23:53:50.280608Z",
     "iopub.status.busy": "2021-10-13T23:53:50.279989Z",
     "iopub.status.idle": "2021-10-13T23:53:51.591253Z",
     "shell.execute_reply": "2021-10-13T23:53:51.59029Z",
     "shell.execute_reply.started": "2021-10-13T23:53:50.280538Z"
    }
   },
   "outputs": [
    {
     "data": {
      "text/plain": [
       "Created Date                      380969\n",
       "Closed Date                        25589\n",
       "Agency Name                           43\n",
       "Complaint Type                        23\n",
       "Descriptor                            62\n",
       "Location Type                          7\n",
       "Incident Zip                         215\n",
       "Incident Address                  261806\n",
       "Street Name                         9911\n",
       "Cross Street 1                     16988\n",
       "Cross Street 2                      8940\n",
       "Address Type                           3\n",
       "City                                  47\n",
       "Status                                 4\n",
       "Resolution Description                66\n",
       "Resolution Action Updated Date     29732\n",
       "Community Board                       77\n",
       "Borough                                6\n",
       "Open Data Channel Type                 5\n",
       "Park Borough                           6\n",
       "Closed_date_year                       6\n",
       "Est_time                           66378\n",
       "Est_time_sec                       66378\n",
       "Est_time_minutes                   66378\n",
       "Est_time_Hours                     66378\n",
       "Est_time_Days                      66378\n",
       "dtype: int64"
      ]
     },
     "execution_count": 62,
     "metadata": {},
     "output_type": "execute_result"
    }
   ],
   "source": [
    "df_c1.nunique()"
   ]
  },
  {
   "cell_type": "code",
   "execution_count": 63,
   "metadata": {
    "execution": {
     "iopub.execute_input": "2021-10-13T23:53:51.593255Z",
     "iopub.status.busy": "2021-10-13T23:53:51.592642Z",
     "iopub.status.idle": "2021-10-13T23:53:51.664626Z",
     "shell.execute_reply": "2021-10-13T23:53:51.663448Z",
     "shell.execute_reply.started": "2021-10-13T23:53:51.593197Z"
    }
   },
   "outputs": [
    {
     "data": {
      "text/plain": [
       "(570221, 13)"
      ]
     },
     "execution_count": 63,
     "metadata": {},
     "output_type": "execute_result"
    }
   ],
   "source": [
    "#Dropping base fields and non important derived fields\n",
    "\n",
    "col =['Created Date', 'Closed Date','Incident Address','Street Name','Cross Street 1','Cross Street 2',\n",
    "      'Resolution Action Updated Date','Resolution Description','Est_time','Est_time_sec','Est_time_Hours',\n",
    "      'Est_time_Days','Closed_date_year']\n",
    "\n",
    "df_c1 = df_c1.drop(columns = col)\n",
    "df_c1.shape"
   ]
  },
  {
   "cell_type": "code",
   "execution_count": 64,
   "metadata": {
    "execution": {
     "iopub.execute_input": "2021-10-13T23:53:51.666617Z",
     "iopub.status.busy": "2021-10-13T23:53:51.666185Z",
     "iopub.status.idle": "2021-10-13T23:53:52.375609Z",
     "shell.execute_reply": "2021-10-13T23:53:52.374724Z",
     "shell.execute_reply.started": "2021-10-13T23:53:51.666576Z"
    }
   },
   "outputs": [
    {
     "data": {
      "text/plain": [
       "Agency Name                  43\n",
       "Complaint Type               23\n",
       "Descriptor                   62\n",
       "Location Type                 7\n",
       "Incident Zip                215\n",
       "Address Type                  3\n",
       "City                         47\n",
       "Status                        4\n",
       "Community Board              77\n",
       "Borough                       6\n",
       "Open Data Channel Type        5\n",
       "Park Borough                  6\n",
       "Est_time_minutes          66378\n",
       "dtype: int64"
      ]
     },
     "execution_count": 64,
     "metadata": {},
     "output_type": "execute_result"
    }
   ],
   "source": [
    "df_c1.nunique()"
   ]
  },
  {
   "cell_type": "markdown",
   "metadata": {},
   "source": [
    "## Handling Missing Values"
   ]
  },
  {
   "cell_type": "code",
   "execution_count": 65,
   "metadata": {
    "execution": {
     "iopub.execute_input": "2021-10-13T23:53:52.376908Z",
     "iopub.status.busy": "2021-10-13T23:53:52.376648Z",
     "iopub.status.idle": "2021-10-13T23:53:52.878829Z",
     "shell.execute_reply": "2021-10-13T23:53:52.877993Z",
     "shell.execute_reply.started": "2021-10-13T23:53:52.37687Z"
    }
   },
   "outputs": [],
   "source": [
    "df_c1 = df_c1.fillna('-9')"
   ]
  },
  {
   "cell_type": "markdown",
   "metadata": {},
   "source": [
    "## Feature Engineering"
   ]
  },
  {
   "cell_type": "markdown",
   "metadata": {},
   "source": [
    "Handling High cardinal Features"
   ]
  },
  {
   "cell_type": "code",
   "execution_count": 66,
   "metadata": {
    "execution": {
     "iopub.execute_input": "2021-10-13T23:53:52.880167Z",
     "iopub.status.busy": "2021-10-13T23:53:52.879923Z",
     "iopub.status.idle": "2021-10-13T23:53:52.892423Z",
     "shell.execute_reply": "2021-10-13T23:53:52.891365Z",
     "shell.execute_reply.started": "2021-10-13T23:53:52.880143Z"
    }
   },
   "outputs": [],
   "source": [
    "class BetaEncoder(object):\n",
    "        \n",
    "    def __init__(self, group):\n",
    "        \n",
    "        self.group = group\n",
    "        self.stats = None\n",
    "        \n",
    "    # get counts from df\n",
    "    def fit(self, df, target_col):\n",
    "        self.prior_mean = np.mean(df[target_col].astype('float'))\n",
    "        stats = df[[target_col, self.group]].groupby(self.group)\n",
    "        stats = stats.agg(['sum', 'count'])[target_col]    \n",
    "        stats.rename(columns={'sum': 'n', 'count': 'N'}, inplace=True)\n",
    "        stats.reset_index(level=0, inplace=True)           \n",
    "        self.stats = stats\n",
    "        \n",
    "    # extract posterior statistics\n",
    "    def transform(self, df, stat_type, N_min=1):\n",
    "        \n",
    "        df_stats = pd.merge(df[[self.group]], self.stats, how='left')\n",
    "        n = df_stats['n'].copy()\n",
    "        N = df_stats['N'].copy()\n",
    "        \n",
    "        # fill in missing\n",
    "        nan_indexs = pd.isnull(n)\n",
    "        n[nan_indexs] = self.prior_mean\n",
    "        N[nan_indexs] = 1.0\n",
    "        \n",
    "        # prior parameters\n",
    "        N_prior = np.maximum(N_min-N, 0)\n",
    "        alpha_prior = self.prior_mean*N_prior\n",
    "        #print(alpha_prior)\n",
    "        beta_prior = (1-self.prior_mean)*N_prior\n",
    "        #print(beta_prior)\n",
    "        \n",
    "        # posterior parameters\n",
    "        alpha = alpha_prior + n\n",
    "        beta =  beta_prior + N-n\n",
    "        \n",
    "        # calculate statistics\n",
    "        if stat_type=='mean':\n",
    "            num = alpha\n",
    "            dem = alpha+beta\n",
    "                    \n",
    "        elif stat_type=='mode':\n",
    "            num = alpha-1\n",
    "            dem = alpha+beta-2\n",
    "            \n",
    "        elif stat_type=='median':\n",
    "            num = alpha-1/3\n",
    "            dem = alpha+beta-2/3\n",
    "        \n",
    "        elif stat_type=='var':\n",
    "            num = alpha*beta\n",
    "            dem = (alpha+beta)**2*(alpha+beta+1)\n",
    "                    \n",
    "        elif stat_type=='skewness':\n",
    "            num = 2*(beta-alpha)*np.sqrt(alpha+beta+1)\n",
    "            dem = (alpha+beta+2)*np.sqrt(alpha*beta)\n",
    "\n",
    "        elif stat_type=='kurtosis':\n",
    "            num = 6*(alpha-beta)**2*(alpha+beta+1) - alpha*beta*(alpha+beta+2)\n",
    "            dem = alpha*beta*(alpha+beta+2)*(alpha+beta+3)\n",
    "\n",
    "        else:\n",
    "            num = self.prior_mean\n",
    "            dem = np.ones_like(N_prior)\n",
    "            \n",
    "        # replace missing\n",
    "        value = num/dem\n",
    "        value[pd.isnull(value)] = np.nanmedian(value)\n",
    "        return value"
   ]
  },
  {
   "cell_type": "code",
   "execution_count": 67,
   "metadata": {
    "execution": {
     "iopub.execute_input": "2021-10-13T23:53:52.894446Z",
     "iopub.status.busy": "2021-10-13T23:53:52.894013Z",
     "iopub.status.idle": "2021-10-13T23:53:52.907263Z",
     "shell.execute_reply": "2021-10-13T23:53:52.906448Z",
     "shell.execute_reply.started": "2021-10-13T23:53:52.894405Z"
    }
   },
   "outputs": [],
   "source": [
    "def cat_capping(data, categ_feat, cum_th):\n",
    "    \n",
    "    data_c = data.copy()\n",
    "    \n",
    "    for col in categ_feat:\n",
    "        v_c = data_c[col].value_counts()\n",
    "        N_C = v_c.count()\n",
    "\n",
    "        if N_C <=10:\n",
    "            I = N_C \n",
    "        elif N_C > 10 and N_C <= 100:\n",
    "            I = 5\n",
    "        elif N_C > 100 and N_C <=250:\n",
    "            I = 10\n",
    "        elif N_C > 250 and N_C <= 500:\n",
    "            I =25\n",
    "        elif N_C > 500 and N_C <=1000:\n",
    "            I = 50\n",
    "        else: \n",
    "            I = 100\n",
    "        C_T = 0\n",
    "        N = 0\n",
    "        while C_T <= float(cum_th):\n",
    "            N = N+I \n",
    "            C_T = (float(v_c.nlargest(N).values.sum())/float(v_c.sum()))*100\n",
    "        allowed_cats = v_c.nlargest(N).index\n",
    "        # capping the feature\n",
    "        if data_c[col].isna().sum() == 0:\n",
    "            pass\n",
    "        else:\n",
    "            data_c.loc[~data_c[col].isin(allowed_cats), col] = col +'New'\n",
    "    \n",
    "    return data_c"
   ]
  },
  {
   "cell_type": "code",
   "execution_count": null,
   "metadata": {
    "execution": {
     "iopub.execute_input": "2021-10-13T23:53:52.909601Z",
     "iopub.status.busy": "2021-10-13T23:53:52.908883Z",
     "iopub.status.idle": "2021-10-13T23:53:52.918867Z",
     "shell.execute_reply": "2021-10-13T23:53:52.917595Z",
     "shell.execute_reply.started": "2021-10-13T23:53:52.909556Z"
    }
   },
   "outputs": [],
   "source": [
    "def cap_att(dataframe,cat_variables, cardinality):\n",
    "    cap_list = []\n",
    "    for col in cat_variables:\n",
    "        c = dataframe[col].value_counts().count()\n",
    "        if c > cardinality:\n",
    "            cap_list.append(col)\n",
    "        else:\n",
    "            pass\n",
    "    return cap_list"
   ]
  },
  {
   "cell_type": "code",
   "execution_count": 68,
   "metadata": {
    "execution": {
     "iopub.execute_input": "2021-10-13T23:53:52.920649Z",
     "iopub.status.busy": "2021-10-13T23:53:52.92028Z",
     "iopub.status.idle": "2021-10-13T23:53:52.934637Z",
     "shell.execute_reply": "2021-10-13T23:53:52.933531Z",
     "shell.execute_reply.started": "2021-10-13T23:53:52.920623Z"
    }
   },
   "outputs": [
    {
     "data": {
      "text/plain": [
       "Index(['Agency Name', 'Complaint Type', 'Descriptor', 'Location Type',\n",
       "       'Incident Zip', 'Address Type', 'City', 'Status', 'Community Board',\n",
       "       'Borough', 'Open Data Channel Type', 'Park Borough',\n",
       "       'Est_time_minutes'],\n",
       "      dtype='object')"
      ]
     },
     "execution_count": 68,
     "metadata": {},
     "output_type": "execute_result"
    }
   ],
   "source": [
    "df_c1.columns\n"
   ]
  },
  {
   "cell_type": "code",
   "execution_count": 69,
   "metadata": {
    "execution": {
     "iopub.execute_input": "2021-10-13T23:53:52.936286Z",
     "iopub.status.busy": "2021-10-13T23:53:52.935983Z",
     "iopub.status.idle": "2021-10-13T23:53:52.942591Z",
     "shell.execute_reply": "2021-10-13T23:53:52.941572Z",
     "shell.execute_reply.started": "2021-10-13T23:53:52.936251Z"
    }
   },
   "outputs": [],
   "source": [
    "cat_f  =['Agency Name', 'Complaint Type', 'Descriptor', 'Location Type',\n",
    "       'Incident Zip', 'Address Type', 'City', 'Status', 'Community Board',\n",
    "       'Borough', 'Open Data Channel Type', 'Park Borough']"
   ]
  },
  {
   "cell_type": "code",
   "execution_count": 72,
   "metadata": {
    "execution": {
     "iopub.execute_input": "2021-10-13T23:53:54.563279Z",
     "iopub.status.busy": "2021-10-13T23:53:54.563005Z",
     "iopub.status.idle": "2021-10-13T23:53:55.32439Z",
     "shell.execute_reply": "2021-10-13T23:53:55.323468Z",
     "shell.execute_reply.started": "2021-10-13T23:53:54.563253Z"
    }
   },
   "outputs": [
    {
     "data": {
      "text/plain": [
       "Agency Name                  43\n",
       "Complaint Type               23\n",
       "Descriptor                   62\n",
       "Location Type                 8\n",
       "Incident Zip                216\n",
       "Address Type                  4\n",
       "City                         48\n",
       "Status                        4\n",
       "Community Board              78\n",
       "Borough                       7\n",
       "Open Data Channel Type        5\n",
       "Park Borough                  7\n",
       "Est_time_minutes          66378\n",
       "dtype: int64"
      ]
     },
     "execution_count": 72,
     "metadata": {},
     "output_type": "execute_result"
    }
   ],
   "source": [
    "df_c1.nunique()"
   ]
  },
  {
   "cell_type": "code",
   "execution_count": 73,
   "metadata": {
    "execution": {
     "iopub.execute_input": "2021-10-13T23:53:55.325657Z",
     "iopub.status.busy": "2021-10-13T23:53:55.325423Z",
     "iopub.status.idle": "2021-10-13T23:53:55.34326Z",
     "shell.execute_reply": "2021-10-13T23:53:55.34232Z",
     "shell.execute_reply.started": "2021-10-13T23:53:55.325633Z"
    }
   },
   "outputs": [
    {
     "data": {
      "text/html": [
       "<div>\n",
       "<style scoped>\n",
       "    .dataframe tbody tr th:only-of-type {\n",
       "        vertical-align: middle;\n",
       "    }\n",
       "\n",
       "    .dataframe tbody tr th {\n",
       "        vertical-align: top;\n",
       "    }\n",
       "\n",
       "    .dataframe thead th {\n",
       "        text-align: right;\n",
       "    }\n",
       "</style>\n",
       "<table border=\"1\" class=\"dataframe\">\n",
       "  <thead>\n",
       "    <tr style=\"text-align: right;\">\n",
       "      <th></th>\n",
       "      <th>Agency Name</th>\n",
       "      <th>Complaint Type</th>\n",
       "      <th>Descriptor</th>\n",
       "      <th>Location Type</th>\n",
       "      <th>Incident Zip</th>\n",
       "      <th>Address Type</th>\n",
       "      <th>City</th>\n",
       "      <th>Status</th>\n",
       "      <th>Community Board</th>\n",
       "      <th>Borough</th>\n",
       "      <th>Open Data Channel Type</th>\n",
       "      <th>Park Borough</th>\n",
       "      <th>Est_time_minutes</th>\n",
       "    </tr>\n",
       "  </thead>\n",
       "  <tbody>\n",
       "    <tr>\n",
       "      <th>1</th>\n",
       "      <td>BCC - Queens East</td>\n",
       "      <td>Snow</td>\n",
       "      <td>15S Re-Plow/Spread/Ice-Snow Cond.</td>\n",
       "      <td>Street</td>\n",
       "      <td>-9</td>\n",
       "      <td>INTERSECTION</td>\n",
       "      <td>-9</td>\n",
       "      <td>Closed</td>\n",
       "      <td>13 QUEENS</td>\n",
       "      <td>QUEENS</td>\n",
       "      <td>PHONE</td>\n",
       "      <td>QUEENS</td>\n",
       "      <td>223.00</td>\n",
       "    </tr>\n",
       "    <tr>\n",
       "      <th>2</th>\n",
       "      <td>BCC - Queens West</td>\n",
       "      <td>Litter Basket / Request</td>\n",
       "      <td>10 Litter Basket / Request</td>\n",
       "      <td>Sidewalk</td>\n",
       "      <td>-9</td>\n",
       "      <td>INTERSECTION</td>\n",
       "      <td>-9</td>\n",
       "      <td>Closed</td>\n",
       "      <td>05 QUEENS</td>\n",
       "      <td>QUEENS</td>\n",
       "      <td>PHONE</td>\n",
       "      <td>QUEENS</td>\n",
       "      <td>2580.00</td>\n",
       "    </tr>\n",
       "    <tr>\n",
       "      <th>3</th>\n",
       "      <td>A - Canine Task Force Citywide</td>\n",
       "      <td>Dirty Conditions</td>\n",
       "      <td>E8 Canine Violation</td>\n",
       "      <td>Sidewalk</td>\n",
       "      <td>-9</td>\n",
       "      <td>BLOCKFACE</td>\n",
       "      <td>-9</td>\n",
       "      <td>Closed</td>\n",
       "      <td>09 QUEENS</td>\n",
       "      <td>QUEENS</td>\n",
       "      <td>ONLINE</td>\n",
       "      <td>QUEENS</td>\n",
       "      <td>13119.00</td>\n",
       "    </tr>\n",
       "    <tr>\n",
       "      <th>4</th>\n",
       "      <td>Bronx 10</td>\n",
       "      <td>Sanitation Condition</td>\n",
       "      <td>12 Dead Animals</td>\n",
       "      <td>Sidewalk</td>\n",
       "      <td>-9</td>\n",
       "      <td>-9</td>\n",
       "      <td>-9</td>\n",
       "      <td>Closed</td>\n",
       "      <td>10 BRONX</td>\n",
       "      <td>BRONX</td>\n",
       "      <td>PHONE</td>\n",
       "      <td>BRONX</td>\n",
       "      <td>4669.00</td>\n",
       "    </tr>\n",
       "    <tr>\n",
       "      <th>5</th>\n",
       "      <td>Brooklyn North 03</td>\n",
       "      <td>Sweeping/Missed</td>\n",
       "      <td>3A Sweeping/Missed</td>\n",
       "      <td>Sidewalk</td>\n",
       "      <td>-9</td>\n",
       "      <td>INTERSECTION</td>\n",
       "      <td>-9</td>\n",
       "      <td>Closed</td>\n",
       "      <td>03 BROOKLYN</td>\n",
       "      <td>BROOKLYN</td>\n",
       "      <td>PHONE</td>\n",
       "      <td>BROOKLYN</td>\n",
       "      <td>4443.00</td>\n",
       "    </tr>\n",
       "  </tbody>\n",
       "</table>\n",
       "</div>"
      ],
      "text/plain": [
       "                      Agency Name           Complaint Type  \\\n",
       "1               BCC - Queens East                     Snow   \n",
       "2               BCC - Queens West  Litter Basket / Request   \n",
       "3  A - Canine Task Force Citywide         Dirty Conditions   \n",
       "4                        Bronx 10     Sanitation Condition   \n",
       "5               Brooklyn North 03          Sweeping/Missed   \n",
       "\n",
       "                          Descriptor Location Type Incident Zip  Address Type  \\\n",
       "1  15S Re-Plow/Spread/Ice-Snow Cond.        Street           -9  INTERSECTION   \n",
       "2         10 Litter Basket / Request      Sidewalk           -9  INTERSECTION   \n",
       "3                E8 Canine Violation      Sidewalk           -9     BLOCKFACE   \n",
       "4                    12 Dead Animals      Sidewalk           -9            -9   \n",
       "5                 3A Sweeping/Missed      Sidewalk           -9  INTERSECTION   \n",
       "\n",
       "  City  Status Community Board   Borough Open Data Channel Type Park Borough  \\\n",
       "1   -9  Closed       13 QUEENS    QUEENS                  PHONE       QUEENS   \n",
       "2   -9  Closed       05 QUEENS    QUEENS                  PHONE       QUEENS   \n",
       "3   -9  Closed       09 QUEENS    QUEENS                 ONLINE       QUEENS   \n",
       "4   -9  Closed        10 BRONX     BRONX                  PHONE        BRONX   \n",
       "5   -9  Closed     03 BROOKLYN  BROOKLYN                  PHONE     BROOKLYN   \n",
       "\n",
       "   Est_time_minutes  \n",
       "1            223.00  \n",
       "2           2580.00  \n",
       "3          13119.00  \n",
       "4           4669.00  \n",
       "5           4443.00  "
      ]
     },
     "execution_count": 73,
     "metadata": {},
     "output_type": "execute_result"
    }
   ],
   "source": [
    "df_c1.head()"
   ]
  },
  {
   "cell_type": "code",
   "execution_count": 74,
   "metadata": {
    "execution": {
     "iopub.execute_input": "2021-10-13T23:53:55.344791Z",
     "iopub.status.busy": "2021-10-13T23:53:55.344464Z",
     "iopub.status.idle": "2021-10-13T23:53:55.663615Z",
     "shell.execute_reply": "2021-10-13T23:53:55.662732Z",
     "shell.execute_reply.started": "2021-10-13T23:53:55.344762Z"
    }
   },
   "outputs": [
    {
     "data": {
      "text/html": [
       "<div>\n",
       "<style scoped>\n",
       "    .dataframe tbody tr th:only-of-type {\n",
       "        vertical-align: middle;\n",
       "    }\n",
       "\n",
       "    .dataframe tbody tr th {\n",
       "        vertical-align: top;\n",
       "    }\n",
       "\n",
       "    .dataframe thead th {\n",
       "        text-align: right;\n",
       "    }\n",
       "</style>\n",
       "<table border=\"1\" class=\"dataframe\">\n",
       "  <thead>\n",
       "    <tr style=\"text-align: right;\">\n",
       "      <th></th>\n",
       "      <th>Agency Name</th>\n",
       "      <th>Complaint Type</th>\n",
       "      <th>Descriptor</th>\n",
       "      <th>Location Type</th>\n",
       "      <th>Incident Zip</th>\n",
       "      <th>Address Type</th>\n",
       "      <th>City</th>\n",
       "      <th>Status</th>\n",
       "      <th>Community Board</th>\n",
       "      <th>Borough</th>\n",
       "      <th>Open Data Channel Type</th>\n",
       "      <th>Park Borough</th>\n",
       "      <th>Est_time_minutes</th>\n",
       "    </tr>\n",
       "  </thead>\n",
       "  <tbody>\n",
       "    <tr>\n",
       "      <th>1</th>\n",
       "      <td>BCC - Queens East</td>\n",
       "      <td>Snow</td>\n",
       "      <td>15S Re-Plow/Spread/Ice-Snow Cond.</td>\n",
       "      <td>Street</td>\n",
       "      <td>-9</td>\n",
       "      <td>INTERSECTION</td>\n",
       "      <td>-9</td>\n",
       "      <td>Closed</td>\n",
       "      <td>13 QUEENS</td>\n",
       "      <td>QUEENS</td>\n",
       "      <td>PHONE</td>\n",
       "      <td>QUEENS</td>\n",
       "      <td>223.00</td>\n",
       "    </tr>\n",
       "    <tr>\n",
       "      <th>2</th>\n",
       "      <td>BCC - Queens West</td>\n",
       "      <td>Litter Basket / Request</td>\n",
       "      <td>10 Litter Basket / Request</td>\n",
       "      <td>Sidewalk</td>\n",
       "      <td>-9</td>\n",
       "      <td>INTERSECTION</td>\n",
       "      <td>-9</td>\n",
       "      <td>Closed</td>\n",
       "      <td>05 QUEENS</td>\n",
       "      <td>QUEENS</td>\n",
       "      <td>PHONE</td>\n",
       "      <td>QUEENS</td>\n",
       "      <td>2580.00</td>\n",
       "    </tr>\n",
       "    <tr>\n",
       "      <th>3</th>\n",
       "      <td>A - Canine Task Force Citywide</td>\n",
       "      <td>Dirty Conditions</td>\n",
       "      <td>E8 Canine Violation</td>\n",
       "      <td>Sidewalk</td>\n",
       "      <td>-9</td>\n",
       "      <td>BLOCKFACE</td>\n",
       "      <td>-9</td>\n",
       "      <td>Closed</td>\n",
       "      <td>09 QUEENS</td>\n",
       "      <td>QUEENS</td>\n",
       "      <td>ONLINE</td>\n",
       "      <td>QUEENS</td>\n",
       "      <td>13119.00</td>\n",
       "    </tr>\n",
       "    <tr>\n",
       "      <th>4</th>\n",
       "      <td>Bronx 10</td>\n",
       "      <td>Sanitation Condition</td>\n",
       "      <td>12 Dead Animals</td>\n",
       "      <td>Sidewalk</td>\n",
       "      <td>-9</td>\n",
       "      <td>-9</td>\n",
       "      <td>-9</td>\n",
       "      <td>Closed</td>\n",
       "      <td>10 BRONX</td>\n",
       "      <td>BRONX</td>\n",
       "      <td>PHONE</td>\n",
       "      <td>BRONX</td>\n",
       "      <td>4669.00</td>\n",
       "    </tr>\n",
       "    <tr>\n",
       "      <th>5</th>\n",
       "      <td>Brooklyn North 03</td>\n",
       "      <td>Sweeping/Missed</td>\n",
       "      <td>3A Sweeping/Missed</td>\n",
       "      <td>Sidewalk</td>\n",
       "      <td>-9</td>\n",
       "      <td>INTERSECTION</td>\n",
       "      <td>-9</td>\n",
       "      <td>Closed</td>\n",
       "      <td>03 BROOKLYN</td>\n",
       "      <td>BROOKLYN</td>\n",
       "      <td>PHONE</td>\n",
       "      <td>BROOKLYN</td>\n",
       "      <td>4443.00</td>\n",
       "    </tr>\n",
       "  </tbody>\n",
       "</table>\n",
       "</div>"
      ],
      "text/plain": [
       "                      Agency Name           Complaint Type  \\\n",
       "1               BCC - Queens East                     Snow   \n",
       "2               BCC - Queens West  Litter Basket / Request   \n",
       "3  A - Canine Task Force Citywide         Dirty Conditions   \n",
       "4                        Bronx 10     Sanitation Condition   \n",
       "5               Brooklyn North 03          Sweeping/Missed   \n",
       "\n",
       "                          Descriptor Location Type Incident Zip  Address Type  \\\n",
       "1  15S Re-Plow/Spread/Ice-Snow Cond.        Street           -9  INTERSECTION   \n",
       "2         10 Litter Basket / Request      Sidewalk           -9  INTERSECTION   \n",
       "3                E8 Canine Violation      Sidewalk           -9     BLOCKFACE   \n",
       "4                    12 Dead Animals      Sidewalk           -9            -9   \n",
       "5                 3A Sweeping/Missed      Sidewalk           -9  INTERSECTION   \n",
       "\n",
       "  City  Status Community Board   Borough Open Data Channel Type Park Borough  \\\n",
       "1   -9  Closed       13 QUEENS    QUEENS                  PHONE       QUEENS   \n",
       "2   -9  Closed       05 QUEENS    QUEENS                  PHONE       QUEENS   \n",
       "3   -9  Closed       09 QUEENS    QUEENS                 ONLINE       QUEENS   \n",
       "4   -9  Closed        10 BRONX     BRONX                  PHONE        BRONX   \n",
       "5   -9  Closed     03 BROOKLYN  BROOKLYN                  PHONE     BROOKLYN   \n",
       "\n",
       "   Est_time_minutes  \n",
       "1            223.00  \n",
       "2           2580.00  \n",
       "3          13119.00  \n",
       "4           4669.00  \n",
       "5           4443.00  "
      ]
     },
     "execution_count": 74,
     "metadata": {},
     "output_type": "execute_result"
    }
   ],
   "source": [
    "#Considering only the time of est call whose status is closed\n",
    "df_c1 = df_c1[df_c1['Status']=='Closed']\n",
    "df_c1.head()"
   ]
  },
  {
   "cell_type": "code",
   "execution_count": 75,
   "metadata": {
    "execution": {
     "iopub.execute_input": "2021-10-13T23:53:55.665004Z",
     "iopub.status.busy": "2021-10-13T23:53:55.664746Z",
     "iopub.status.idle": "2021-10-13T23:53:55.668995Z",
     "shell.execute_reply": "2021-10-13T23:53:55.66811Z",
     "shell.execute_reply.started": "2021-10-13T23:53:55.664978Z"
    }
   },
   "outputs": [],
   "source": [
    "#df_c1.nunique()"
   ]
  },
  {
   "cell_type": "code",
   "execution_count": 76,
   "metadata": {
    "execution": {
     "iopub.execute_input": "2021-10-13T23:53:55.670245Z",
     "iopub.status.busy": "2021-10-13T23:53:55.669976Z",
     "iopub.status.idle": "2021-10-13T23:53:55.712177Z",
     "shell.execute_reply": "2021-10-13T23:53:55.711264Z",
     "shell.execute_reply.started": "2021-10-13T23:53:55.670198Z"
    }
   },
   "outputs": [
    {
     "data": {
      "text/html": [
       "<div>\n",
       "<style scoped>\n",
       "    .dataframe tbody tr th:only-of-type {\n",
       "        vertical-align: middle;\n",
       "    }\n",
       "\n",
       "    .dataframe tbody tr th {\n",
       "        vertical-align: top;\n",
       "    }\n",
       "\n",
       "    .dataframe thead th {\n",
       "        text-align: right;\n",
       "    }\n",
       "</style>\n",
       "<table border=\"1\" class=\"dataframe\">\n",
       "  <thead>\n",
       "    <tr style=\"text-align: right;\">\n",
       "      <th></th>\n",
       "      <th>Est_time_minutes</th>\n",
       "    </tr>\n",
       "  </thead>\n",
       "  <tbody>\n",
       "    <tr>\n",
       "      <th>count</th>\n",
       "      <td>567769.00</td>\n",
       "    </tr>\n",
       "    <tr>\n",
       "      <th>mean</th>\n",
       "      <td>14873.19</td>\n",
       "    </tr>\n",
       "    <tr>\n",
       "      <th>std</th>\n",
       "      <td>54603.93</td>\n",
       "    </tr>\n",
       "    <tr>\n",
       "      <th>min</th>\n",
       "      <td>0.00</td>\n",
       "    </tr>\n",
       "    <tr>\n",
       "      <th>25%</th>\n",
       "      <td>1356.00</td>\n",
       "    </tr>\n",
       "    <tr>\n",
       "      <th>50%</th>\n",
       "      <td>2513.00</td>\n",
       "    </tr>\n",
       "    <tr>\n",
       "      <th>75%</th>\n",
       "      <td>5616.00</td>\n",
       "    </tr>\n",
       "    <tr>\n",
       "      <th>max</th>\n",
       "      <td>2227680.00</td>\n",
       "    </tr>\n",
       "  </tbody>\n",
       "</table>\n",
       "</div>"
      ],
      "text/plain": [
       "       Est_time_minutes\n",
       "count         567769.00\n",
       "mean           14873.19\n",
       "std            54603.93\n",
       "min                0.00\n",
       "25%             1356.00\n",
       "50%             2513.00\n",
       "75%             5616.00\n",
       "max          2227680.00"
      ]
     },
     "execution_count": 76,
     "metadata": {},
     "output_type": "execute_result"
    }
   ],
   "source": [
    "df_c1.describe()"
   ]
  },
  {
   "cell_type": "code",
   "execution_count": 77,
   "metadata": {
    "execution": {
     "iopub.execute_input": "2021-10-13T23:53:55.714041Z",
     "iopub.status.busy": "2021-10-13T23:53:55.713641Z",
     "iopub.status.idle": "2021-10-13T23:53:55.764694Z",
     "shell.execute_reply": "2021-10-13T23:53:55.763635Z",
     "shell.execute_reply.started": "2021-10-13T23:53:55.714002Z"
    },
    "scrolled": true
   },
   "outputs": [
    {
     "data": {
      "text/plain": [
       "array(['Snow', 'Litter Basket / Request', 'Dirty Conditions',\n",
       "       'Sanitation Condition', 'Sweeping/Missed', 'Vacant Lot',\n",
       "       'Adopt-A-Basket', 'Other Enforcement',\n",
       "       'Missed Collection (All Materials)', 'Sweeping/Inadequate',\n",
       "       'Collection Truck Noise', 'Derelict Vehicles',\n",
       "       'Recycling Enforcement', 'Overflowing Litter Baskets', 'Graffiti',\n",
       "       'Derelict Bicycle', 'Overflowing Recycling Baskets',\n",
       "       'Foam Ban Enforcement', 'Sweeping/Missed-Inadequate',\n",
       "       'Request Xmas Tree Collection', 'Electronics Waste',\n",
       "       'Request Large Bulky Item Collection',\n",
       "       'Electronics Waste Appointment'], dtype=object)"
      ]
     },
     "execution_count": 77,
     "metadata": {},
     "output_type": "execute_result"
    }
   ],
   "source": [
    "df_c1['Complaint Type'].unique()"
   ]
  },
  {
   "cell_type": "code",
   "execution_count": 78,
   "metadata": {
    "execution": {
     "iopub.execute_input": "2021-10-13T23:53:55.767698Z",
     "iopub.status.busy": "2021-10-13T23:53:55.76745Z",
     "iopub.status.idle": "2021-10-13T23:53:55.773376Z",
     "shell.execute_reply": "2021-10-13T23:53:55.77265Z",
     "shell.execute_reply.started": "2021-10-13T23:53:55.767674Z"
    }
   },
   "outputs": [
    {
     "name": "stdout",
     "output_type": "stream",
     "text": [
      "Average time it takes to resolve a 311 call is: 14873.189377164512 minutes\n"
     ]
    }
   ],
   "source": [
    "time = df_c1['Est_time_minutes'].mean()\n",
    "\n",
    "print(\"Average time it takes to resolve a 311 call is:\",time,\"minutes\")"
   ]
  },
  {
   "cell_type": "code",
   "execution_count": 79,
   "metadata": {
    "execution": {
     "iopub.execute_input": "2021-10-13T23:53:55.774609Z",
     "iopub.status.busy": "2021-10-13T23:53:55.77437Z",
     "iopub.status.idle": "2021-10-13T23:53:55.785697Z",
     "shell.execute_reply": "2021-10-13T23:53:55.784653Z",
     "shell.execute_reply.started": "2021-10-13T23:53:55.774586Z"
    }
   },
   "outputs": [
    {
     "name": "stdout",
     "output_type": "stream",
     "text": [
      "Average time it takes to resolve a 311 call is:  10days  7hours 53minutes\n"
     ]
    }
   ],
   "source": [
    "#Estimate the time it takes for  a 311 call\n",
    "\n",
    "n = df_c1['Est_time_minutes'].mean()\n",
    "\n",
    "call_days =  n//(24*60)\n",
    "call_hrs = (n%(24*60))//60\n",
    "call_min = (n%60)\n",
    "\n",
    "print(\"Average time it takes to resolve a 311 call is:  %ddays %2dhours %2dminutes\" % (call_days, call_hrs, call_min))"
   ]
  }
 ],
 "metadata": {
  "kernelspec": {
   "display_name": "Python 3",
   "language": "python",
   "name": "python3"
  },
  "language_info": {
   "codemirror_mode": {
    "name": "ipython",
    "version": 3
   },
   "file_extension": ".py",
   "mimetype": "text/x-python",
   "name": "python",
   "nbconvert_exporter": "python",
   "pygments_lexer": "ipython3",
   "version": "3.8.5"
  }
 },
 "nbformat": 4,
 "nbformat_minor": 4
}
